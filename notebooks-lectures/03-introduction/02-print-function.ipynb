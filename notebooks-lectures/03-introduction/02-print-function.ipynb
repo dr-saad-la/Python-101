{
 "cells": [
  {
   "cell_type": "markdown",
   "id": "e8cf2d2b-55a0-4e57-a2d5-421525f5562f",
   "metadata": {},
   "source": [
    "**COURSE**: **Python 101** 🐍  \n",
    "**CHAPTER**: **Python Fundamentals**\n",
    "**LESSON**: **The Print Method**\n",
    "**Author**: **Dr. Saad Laouadi**\n",
    "\n",
    "---\n",
    "\n",
    "### Overview:\n",
    "This lesson introduces the **`print()`** function in Python, a fundamental tool for outputting text or data to the console. It is crucial for debugging and interacting with users during code execution.\n",
    "\n",
    "\n",
    "### Learning Outcomes:\n",
    "- **Print Function Mastery**: Learn how to effectively use the `print()` function to display strings, variables, and formatted data in Python.\n",
    "\n",
    "**Disclaimer**:  \n",
    "This course and its content are intended for educational purposes only. The author, Dr. Saad Laouadi, is not responsible for any issues, damages, or unintended results from the use of the provided code. Users must proceed at their own risk.\n",
    "\n",
    "---\n",
    "\n",
    "**Copyright © Dr. Saad Laouadi**  \n",
    "**All Rights Reserved 🛡️**"
   ]
  },
  {
   "cell_type": "code",
   "execution_count": 1,
   "id": "ebc84841",
   "metadata": {},
   "outputs": [],
   "source": [
    "# Environment Setup\n",
    "from faker import Faker \n",
    "from time import sleep\n",
    "\n",
    "fake = Faker()"
   ]
  },
  {
   "cell_type": "markdown",
   "id": "04ee6e3f-7eb3-4ca6-b9f1-2fec793f0cda",
   "metadata": {},
   "source": [
    "## The `print()` Function\n",
    "\n",
    "- The Python `print()` function outputs the given object(s) to the screen (console) or another standard output device. It is a built-in function used widely for debugging and displaying results in Python programs.\n",
    "\n",
    "### `print()` Parameters:\n",
    "\n",
    "- **`*objects`**: One or more objects to be printed. Multiple objects will be separated by a space (`' '`) by default.\n",
    "- **`sep`** (Optional): A string inserted between the objects when there are multiple objects. By default, it is a space (`' '`).\n",
    "- **`end`** (Optional): Defines what is printed at the end of the output. By default, it is a newline (`'\\n'`).\n",
    "- **`file`** (Optional): Specifies where to print the output. It must be an object with a `write(string)` method. By default, it prints to `sys.stdout`.\n",
    "- **`flush`** (Optional): If `True`, the output stream is forcibly flushed. The default value is `False`.\n",
    "\n",
    "### Return Value:\n",
    "The `print()` function returns `None`, meaning it does not return any value. It simply outputs the objects to the specified output device.\n",
    "\n",
    "**`print()` function syntax**:\n",
    "\n",
    "```python \n",
    "print(*objects, sep=' ', end='\\n', file=sys.stdout, flush=False)\n",
    "\n",
    "# Get the help\n",
    "print?\n",
    "# or \n",
    "help('print')\n",
    "```"
   ]
  },
  {
   "cell_type": "markdown",
   "id": "4cb7bba2-5a37-4ed8-8329-efe35f57af0e",
   "metadata": {},
   "source": [
    "## Examples\n",
    "In this section, we will use several example to show how the `print()` function works. Note that we will use the `faker` module to generate data randomly. "
   ]
  },
  {
   "cell_type": "markdown",
   "id": "45ca2274-0994-4e3b-8038-8b922a61733c",
   "metadata": {},
   "source": [
    "### Full Example"
   ]
  },
  {
   "cell_type": "code",
   "execution_count": 2,
   "id": "14d2ac2d-c6e2-4254-994f-4657767a148d",
   "metadata": {},
   "outputs": [
    {
     "name": "stdout",
     "output_type": "stream",
     "text": [
      "Python-is-fun\n",
      "Hello World!\n",
      "Output with flush.\n"
     ]
    }
   ],
   "source": [
    "# Changing the separator\n",
    "print(\"Python\", \"is\", \"fun\", sep=\"-\")\n",
    "\n",
    "# Changing the end character\n",
    "print(\"Hello\", end = \" \")\n",
    "print(\"World!\")         # Prints on the same line\n",
    "\n",
    "# Output to a file\n",
    "with open(\"output.txt\", \"w\") as f:\n",
    "    print(\"This is written to a file.\", file=f)\n",
    "\n",
    "# Forcing a flush\n",
    "print(\"Output with flush.\", flush=True)"
   ]
  },
  {
   "cell_type": "markdown",
   "id": "5b5ed5d4-7bd2-4312-8981-03d635b4fc4a",
   "metadata": {},
   "source": [
    "### Example of `print()` with One Object. \n",
    "\n",
    "Most of the time we want to print one object. The `print()` method prints an object passed as a string or as variables. \n",
    "\n",
    "1. **Passing string directly to `print()` method**"
   ]
  },
  {
   "cell_type": "code",
   "execution_count": 3,
   "id": "f160950d-912a-45cd-bc1f-254bcb8c62d7",
   "metadata": {},
   "outputs": [
    {
     "name": "stdout",
     "output_type": "stream",
     "text": [
      "Hello, World!\n",
      "Programming with Python is fun\n"
     ]
    }
   ],
   "source": [
    "# Basic print statement by passing a string directly to print method\n",
    "print(\"Hello, World!\")\n",
    "print(\"Programming with Python is fun\")"
   ]
  },
  {
   "cell_type": "markdown",
   "id": "8c2f0076",
   "metadata": {},
   "source": [
    "2. **Passing a variable to `print()` method:** "
   ]
  },
  {
   "cell_type": "code",
   "execution_count": 4,
   "id": "cff28eb5-180c-4163-83f3-7f0202540afe",
   "metadata": {},
   "outputs": [
    {
     "name": "stdout",
     "output_type": "stream",
     "text": [
      "Theresa Brown\n",
      "Guess college speak take.\n"
     ]
    }
   ],
   "source": [
    "# Generate name randomly then print it\n",
    "fake.seed_instance(2)\n",
    "name = fake.name()\n",
    "sentence = fake.sentence()\n",
    "print(name)\n",
    "print(sentence)"
   ]
  },
  {
   "cell_type": "code",
   "execution_count": null,
   "id": "cf1f5dcf-b3bf-42a3-9f18-4b6bcf01a55f",
   "metadata": {},
   "outputs": [],
   "source": []
  },
  {
   "cell_type": "code",
   "execution_count": 5,
   "id": "b84b077e-204b-46ad-a6c8-ab4a32e78e26",
   "metadata": {},
   "outputs": [
    {
     "name": "stdout",
     "output_type": "stream",
     "text": [
      "Python is fun\n"
     ]
    }
   ],
   "source": [
    "# Printing multiple objects\n",
    "print(\"Python\", \"is\", \"fun\")"
   ]
  },
  {
   "cell_type": "code",
   "execution_count": null,
   "id": "56d48a14-e143-4d83-a43e-f0ee3a24ed70",
   "metadata": {},
   "outputs": [],
   "source": []
  },
  {
   "cell_type": "code",
   "execution_count": 6,
   "id": "9c532ce8-56d9-4621-b97d-1c90a3050c60",
   "metadata": {},
   "outputs": [
    {
     "name": "stdout",
     "output_type": "stream",
     "text": [
      "A--B\n"
     ]
    }
   ],
   "source": [
    "print(\"A\", \"B\", sep= \"--\")"
   ]
  },
  {
   "cell_type": "markdown",
   "id": "64331688",
   "metadata": {},
   "source": [
    "3. **Passing a string and a variable**: If you pass a string and a variable, they should be separated by a comma. "
   ]
  },
  {
   "cell_type": "code",
   "execution_count": 7,
   "id": "1b161e96",
   "metadata": {},
   "outputs": [
    {
     "name": "stdout",
     "output_type": "stream",
     "text": [
      "My name is: Theresa Brown\n"
     ]
    }
   ],
   "source": [
    "# string with variable\n",
    "print('My name is:', name)"
   ]
  },
  {
   "cell_type": "markdown",
   "id": "63771bb4",
   "metadata": {},
   "source": [
    "### Passing Multiple Objects\n",
    "\n",
    " - If we want print multiple objects, we can pass them for the `print()` method one by one separated by commas.  "
   ]
  },
  {
   "cell_type": "code",
   "execution_count": 8,
   "id": "e1aa51fc",
   "metadata": {},
   "outputs": [
    {
     "name": "stdout",
     "output_type": "stream",
     "text": [
      "a 11 Experience 3.14\n"
     ]
    }
   ],
   "source": [
    "obj1 = 'a'\n",
    "obj2 = 11\n",
    "obj3 = 'Experience'\n",
    "obj4 = 3.14\n",
    "print(obj1, obj2, obj3, obj4)"
   ]
  },
  {
   "cell_type": "markdown",
   "id": "9206058f",
   "metadata": {},
   "source": [
    "- As you can see, the `print()` method prints the object in one line. \n",
    "\n",
    "- If we have a tuple of objects, we can use the `*` operator (the unpacking operator) as follows:"
   ]
  },
  {
   "cell_type": "code",
   "execution_count": 9,
   "id": "e2576e5a",
   "metadata": {},
   "outputs": [
    {
     "name": "stdout",
     "output_type": "stream",
     "text": [
      "b 3.14 Experience 101\n"
     ]
    }
   ],
   "source": [
    "# Print several objects using the `*` operator.\n",
    "objs = 'b', 3.14, 'Experience', 101\n",
    "print(*objs)"
   ]
  },
  {
   "cell_type": "markdown",
   "id": "60ca3fbb",
   "metadata": {},
   "source": [
    "### Using the `sep` Parameter in the `print()` Method\n",
    "\n",
    " - In the previous example, the separator by default is empty space; however, we can specify that using the `sep` parameter."
   ]
  },
  {
   "cell_type": "code",
   "execution_count": 10,
   "id": "a751d547",
   "metadata": {},
   "outputs": [
    {
     "name": "stdout",
     "output_type": "stream",
     "text": [
      "2002-06-10 * 1990-04-02 * 2004-04-02 * 2003-02-24\n"
     ]
    }
   ],
   "source": [
    "# Separate the objects using the ` * `\n",
    "fake.seed_instance(3)\n",
    "dates = fake.pytuple(nb_elements = 4, variable_nb_elements=False, value_types = 'date')\n",
    "print(*dates, sep=\" * \")"
   ]
  },
  {
   "cell_type": "markdown",
   "id": "d27d31a6",
   "metadata": {},
   "source": [
    "- We can use the `sep` parameter whenever we need to separate objects, for example, in a `for` loop. \n",
    "\n",
    "- In the next example, we use `zip()` method to combine elements together, this object can be used in a for loop then print their elements one by one and separating the object with a specified character."
   ]
  },
  {
   "cell_type": "code",
   "execution_count": 11,
   "id": "582bd497",
   "metadata": {},
   "outputs": [
    {
     "name": "stdout",
     "output_type": "stream",
     "text": [
      "D_1\n",
      "o_2\n",
      "c_3\n",
      "t_4\n",
      "o_5\n",
      "r_6\n"
     ]
    }
   ],
   "source": [
    "obj = zip('Doctor', range(1, 7))\n",
    "for i, j in obj:\n",
    "    print(i, j, sep='_')"
   ]
  },
  {
   "cell_type": "markdown",
   "id": "3d8a7c1f",
   "metadata": {},
   "source": [
    "### The `end` Parameter\n",
    "\n",
    " - As seen in the previous example,  the output of the `print()` function always ends by the `NEWLINE` character. What if we do not want this behavior.  \n",
    " \n",
    " - The `print()` function has another optional parameter `end`, whose default value is `\\n`, which can be substituted by any other character such as a single space `(' ')` to display the output of more objects or a subsequent `print()` statement in the same line. "
   ]
  },
  {
   "cell_type": "code",
   "execution_count": 12,
   "id": "f636e0c5",
   "metadata": {},
   "outputs": [
    {
     "name": "stdout",
     "output_type": "stream",
     "text": [
      "Joshua Wood: 25\n"
     ]
    }
   ],
   "source": [
    "# Print objects in the same line\n",
    "fake.seed_instance(3)\n",
    "name = fake.name()\n",
    "fake.seed_instance(3)\n",
    "num = fake.random_int(min=18, max=35)\n",
    "\n",
    "# Use two print statments\n",
    "print(name, end=': ')\n",
    "print(num)"
   ]
  },
  {
   "cell_type": "markdown",
   "id": "ea226a8e",
   "metadata": {},
   "source": [
    "-  It is not necessary to use two different `print()` statements, it suffices to list the object in one `print()`, separating the objects with commas, and pass a character to the `end` parameter. \n",
    "\n",
    "- If you want a separator as well, you can pass a character to `sep` as shown above. "
   ]
  },
  {
   "cell_type": "code",
   "execution_count": 13,
   "id": "afa8dc1c",
   "metadata": {},
   "outputs": [
    {
     "name": "stdout",
     "output_type": "stream",
     "text": [
      "Joshua Wood: 25 "
     ]
    }
   ],
   "source": [
    "# Print the objects in one line using one print statement. \n",
    "print(name, num, sep = ': ',  end=\" \")"
   ]
  },
  {
   "cell_type": "markdown",
   "id": "4ef8ccbf",
   "metadata": {},
   "source": [
    "## Print in a `for` Loop\n",
    "\n",
    " - Generally, we may want to print some output to the console, in that case, we want the output to be in the same line. \n",
    " \n",
    " - In this example, we will use both the `sep` and `end` parameters. The `zip()` method is used to create one object of tuple of elements from lists."
   ]
  },
  {
   "cell_type": "code",
   "execution_count": 14,
   "id": "0a5946be",
   "metadata": {},
   "outputs": [
    {
     "name": "stdout",
     "output_type": "stream",
     "text": [
      "9709-4969 6061-6489 9516-2539 "
     ]
    }
   ],
   "source": [
    "# Generate some random data\n",
    "fake.seed_instance(3)\n",
    "lst1 = fake.pylist(nb_elements = 3, variable_nb_elements = False, value_types = 'int')\n",
    "\n",
    "fake.seed_instance(4)\n",
    "lst2 = fake.pylist(nb_elements = 3,  variable_nb_elements = False, value_types = 'int')\n",
    "\n",
    "# Print the objects using `-` separator in the same line\n",
    "for elem1, elem2 in zip(lst1, lst2):\n",
    "    print(elem1, elem2, sep = '-',  end = ' ')"
   ]
  },
  {
   "cell_type": "markdown",
   "id": "3aa72692",
   "metadata": {},
   "source": [
    "## Printing the output into a file Using the `file` Parameter\n",
    "\n",
    "- The `file` parameter of `print()` method is used for extracting output to a specified file. However, to fully understand this, you should have some file handling knowledge. \n",
    "\n",
    "- In order to save the output of the `print()` method in a file, first we need to open a file in `writing` mode, then pass the file to `file` argument, finally you need to close that file. \n",
    "\n",
    "- In this example, we will generate few sentences using the `faker` module, then we save those sentences in a file."
   ]
  },
  {
   "cell_type": "code",
   "execution_count": 15,
   "id": "d1578a42",
   "metadata": {},
   "outputs": [
    {
     "data": {
      "text/plain": [
       "['Or candidate trouble listen ok.',\n",
       " 'Actually study else doctor yet like student live.',\n",
       " 'Discussion charge understand hope.',\n",
       " 'Provide ask serve.',\n",
       " 'Amount sister statement especially organization turn hold small.']"
      ]
     },
     "execution_count": 15,
     "metadata": {},
     "output_type": "execute_result"
    }
   ],
   "source": [
    "# Generate random sentences\n",
    "fake.seed_instance(3)\n",
    "sentences = fake.sentences(nb=5)\n",
    "# Print the sentences to the console\n",
    "sentences"
   ]
  },
  {
   "cell_type": "code",
   "execution_count": 16,
   "id": "1c7f042f",
   "metadata": {},
   "outputs": [],
   "source": [
    "# print the sentences into a file \n",
    "# Open a file in writing mode\n",
    "sent_file = open('sentences.txt', 'w')\n",
    "\n",
    "# Use for loop to save the sentences in the open file\n",
    "for sent in sentences:\n",
    "    print(sent, end=' ', file = sent_file)\n",
    "\n",
    "# close the file\n",
    "sent_file.close()"
   ]
  },
  {
   "cell_type": "markdown",
   "id": "8d47baec",
   "metadata": {},
   "source": [
    "- We can ensure that the file has the output of the `print()` method by reading first, then print its content to the console."
   ]
  },
  {
   "cell_type": "code",
   "execution_count": 17,
   "id": "feb0a716",
   "metadata": {},
   "outputs": [
    {
     "name": "stdout",
     "output_type": "stream",
     "text": [
      "Or candidate trouble listen ok. Actually study else doctor yet like student live. Discussion charge understand hope. Provide ask serve. Amount sister statement especially organization turn hold small. \n"
     ]
    }
   ],
   "source": [
    "# open the file in a read mode\n",
    "f = open('sentences.txt', 'r')  # `r` mode is the default\n",
    "\n",
    "# Print the file to the console\n",
    "for line in f:\n",
    "    print(line)\n",
    "    \n",
    "# Close the file\n",
    "f.close()"
   ]
  },
  {
   "cell_type": "markdown",
   "id": "52fcab07",
   "metadata": {},
   "source": [
    "### The `flush` Keyword Argument\n",
    "\n",
    "- `flush` parameter is used to flush (clear) the internal buffer/stream (or we can say it is used to flush the output stream), it has two values `False` and `True`.\n",
    " \n",
    "- \"False\" is the default value i.e:\n",
    "   - if we don't use the flush parameter, then flushing of the stream will be `False`.\n",
    "   - If we specify \"True\" – stream flushes.\n",
    "\n",
    "- Output to a `print()` function is buffered, flushing the `print()` makes sure that the output that is buffered goes to the destination.\n",
    "\n",
    "- Note: \"flush\" is available in Python 3.x or later versions. [source](https://www.includehelp.com/python/flush-parameter-in-python-with-print-function.aspx)\n",
    "\n",
    "- We will provide two examples: \n",
    "    1. Program without flushing the buffer.\n",
    "    2. Program with flushing the buffer\n",
    "    \n",
    "### Python examples with `flush` parameter in `print()`\n",
    " \n",
    " - To understand how the `flush` works, let us investigate the below program carefully and understand the difference of setting the `flush` to `False` and `True`.\n",
    " \n",
    " - `print()` function prints the text with a newline and when a newline is found output is done. We can use the `end` parameter to disable the newline character. \n",
    " \n",
    " - The output will not display for 2 seconds. Once the program's execution is reached to the `sleep()` statement, the text will be printed."
   ]
  },
  {
   "cell_type": "code",
   "execution_count": 18,
   "id": "3f387920",
   "metadata": {},
   "outputs": [
    {
     "name": "stdout",
     "output_type": "stream",
     "text": [
      "Hello, world! Bye!!!\n"
     ]
    }
   ],
   "source": [
    "# output is not flushed here\n",
    "print(\"Hello, world!\", end=' ')\n",
    "sleep(2)\n",
    "print(\"Bye!!!\")"
   ]
  },
  {
   "cell_type": "markdown",
   "id": "c4fd9991",
   "metadata": {},
   "source": [
    "- When I run the program, the \"Hello, world!\" and \"Bye!!!\" are printing together.\n",
    "\n",
    "- If we want them to be printed one after another, we can specify the flush parameter with the `True` value. If it is `True,` the stream will be flushed."
   ]
  },
  {
   "cell_type": "code",
   "execution_count": 19,
   "id": "4f668526",
   "metadata": {},
   "outputs": [
    {
     "name": "stdout",
     "output_type": "stream",
     "text": [
      "Hello, world!Bye!!!\n"
     ]
    }
   ],
   "source": [
    "# output is flushed here\n",
    "print(\"Hello, world!\", end='', flush= True)\n",
    "sleep(2)\n",
    "print(\"Bye!!!\")"
   ]
  },
  {
   "cell_type": "markdown",
   "id": "5bbf0c08",
   "metadata": {},
   "source": [
    "- Now, when you run the program \"Hello, world!\" will be printed first and then after 2 seconds \"Bye!!!\" will be printed."
   ]
  },
  {
   "cell_type": "markdown",
   "id": "9aeb5efb",
   "metadata": {},
   "source": [
    "## Formatting the Print Output\n",
    "\n",
    " - It is possible to format the output using C style format specifier symbols such as `%d`, `%f`, `%s`, etc. \n",
    " \n",
    " - In Python, you can use the `%` operator to format the output of a `print()` function using the C-style formatting.\n",
    " \n",
    " - If we want to print more than one value we need to pass them into a tuple."
   ]
  },
  {
   "cell_type": "code",
   "execution_count": 20,
   "id": "10033302",
   "metadata": {},
   "outputs": [
    {
     "name": "stdout",
     "output_type": "stream",
     "text": [
      "The value of `x` is `30` and the value of `y` is `79`\n"
     ]
    }
   ],
   "source": [
    "# Generate random integers\n",
    "fake.seed_instance(3)\n",
    "x = fake.random_int(min=0, max=99)\n",
    "\n",
    "fake.seed_instance(5)\n",
    "y = fake.random_int(min=0, max=99)\n",
    "\n",
    "# Print the integer\n",
    "print(\"The value of `x` is `%d` and the value of `y` is `%d`\" % (x, y))"
   ]
  },
  {
   "cell_type": "markdown",
   "id": "36c7a1a9",
   "metadata": {},
   "source": [
    "- In this example, the `%d` is a placeholder for an integer, and the values of `x` and `y` are passed after the `%` operator. "
   ]
  },
  {
   "cell_type": "markdown",
   "id": "555a18a2",
   "metadata": {},
   "source": [
    "- You can also format `string`, `float` and other types in similar way."
   ]
  },
  {
   "cell_type": "code",
   "execution_count": 21,
   "id": "e85a0c16",
   "metadata": {},
   "outputs": [
    {
     "name": "stdout",
     "output_type": "stream",
     "text": [
      "My name is `Natalie Pope` and I am `26.000000` years old\n"
     ]
    }
   ],
   "source": [
    "fake.seed_instance(5)\n",
    "name =  fake.name()\n",
    "fake.seed_instance(5)\n",
    "age = fake.random_int(min = 18, max=35)\n",
    "\n",
    "print(\"My name is `%s` and I am `%f` years old\" % (name, age))"
   ]
  },
  {
   "cell_type": "markdown",
   "id": "ff036354",
   "metadata": {},
   "source": [
    "- You can also format the decimal places using `%.xf` where `x` is the number of decimal places."
   ]
  },
  {
   "cell_type": "code",
   "execution_count": 22,
   "id": "afc7bc94",
   "metadata": {},
   "outputs": [
    {
     "name": "stdout",
     "output_type": "stream",
     "text": [
      "My age is 26.00\n"
     ]
    }
   ],
   "source": [
    "print(\"My age is %.2f\" % age)"
   ]
  },
  {
   "cell_type": "markdown",
   "id": "02cfa47f",
   "metadata": {},
   "source": [
    "### Using a Dictionary In `print()` Method\n",
    "\n",
    "- When the right argument is a dictionary (or other mapping type), then the formats in the string must include a parenthesised mapping key into that dictionary inserted immediately after the '%' character. \n",
    "\n",
    "- The mapping key selects the value to be formatted from the mapping. \n",
    "\n",
    "- This example is adopted from Python official website. "
   ]
  },
  {
   "cell_type": "code",
   "execution_count": 23,
   "id": "2a0ab08d",
   "metadata": {},
   "outputs": [
    {
     "name": "stdout",
     "output_type": "stream",
     "text": [
      "Python has 002 quote types.\n"
     ]
    }
   ],
   "source": [
    "print('%(language)s has %(number)03d quote types.' %\n",
    "      {'language': \"Python\", \"number\": 2})"
   ]
  },
  {
   "cell_type": "code",
   "execution_count": 25,
   "id": "50969cf6",
   "metadata": {},
   "outputs": [
    {
     "name": "stdout",
     "output_type": "stream",
     "text": [
      "Person     <==> FVyCjLCCuSmhWuaOiXcO\n",
      "Off        <==> -7162778.5301109\n",
      "Case       <==> https://www.graham.net/main/mainmain.htm\n",
      "Hope       <==> 9404\n",
      "Whole      <==> 8750\n",
      "Pm         <==> https://www.lambert.net/blog/exploreauthor.htm\n",
      "Matter     <==> http://www.fritz.biz/posts/categories/searchhome.jsp\n",
      "Process    <==> bwvgFNtECVombafBXYpn\n",
      "Partner    <==> YrshStTuTJfYQoGLWwnp\n"
     ]
    }
   ],
   "source": [
    "# Generate a random dictionary\n",
    "fake.seed_instance(3)\n",
    "d = fake.pydict()\n",
    "\n",
    "# Format Printing the dict items \n",
    "for key, val in d.items():\n",
    "    print('%-10s <==> %s' % (key.title(), val))"
   ]
  },
  {
   "cell_type": "code",
   "execution_count": null,
   "id": "21c2825c",
   "metadata": {},
   "outputs": [],
   "source": []
  }
 ],
 "metadata": {
  "kernelspec": {
   "display_name": "Mamba Base",
   "language": "python",
   "name": "base"
  },
  "language_info": {
   "codemirror_mode": {
    "name": "ipython",
    "version": 3
   },
   "file_extension": ".py",
   "mimetype": "text/x-python",
   "name": "python",
   "nbconvert_exporter": "python",
   "pygments_lexer": "ipython3",
   "version": "3.10.14"
  }
 },
 "nbformat": 4,
 "nbformat_minor": 5
}
