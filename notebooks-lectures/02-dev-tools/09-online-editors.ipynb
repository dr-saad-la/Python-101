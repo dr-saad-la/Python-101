{
 "cells": [
  {
   "cell_type": "code",
   "execution_count": 1,
   "id": "188d879d",
   "metadata": {},
   "outputs": [],
   "source": [
    "###=========================================================================\n",
    "###=========================================================================\n",
    "###                                                                      ===\n",
    "###                      COURSE: PYTHON ESSENTIALS                       ===\n",
    "###                     CHAPTER: COURSE INTRODUCTION                     ===\n",
    "###                      LESSON: ONLINE EDITORS.                         ===\n",
    "###                                                                      ===\n",
    "###                       AUTHOR: DR. SAAD LAOUADI                       ===\n",
    "###                     COPYRIGHT TO DR SAAD LAOUADI                     ===\n",
    "###                                                                      ===\n",
    "###=========================================================================\n",
    "###========================================================================="
   ]
  },
  {
   "cell_type": "markdown",
   "id": "1323d30d",
   "metadata": {},
   "source": [
    "## Online Python Shell\n",
    "\n",
    "- Installing Python (or any software) can be a little daunting for a newbie. Fortunately there are many online resources to get familiar with the syntax, features and philosophy of Python before deciding to install Python in the local machine.\n",
    "\n",
    "- You can launch an online Python Shell directly from the official website - https://www.python.org/shell. The Shell terminal shows a Python prompt >>> in front of which any valid Python expression can be written, which is executed on pressing 'Enter'.\n",
    "\n",
    "\n",
    "- Many interactive Python environment shells can be found on the internet. They work based on REPL (Read, Evaluate, Print, Loop). Using https://repl.it it is possible to execute Python in interactive as well as in scripting mode.\n",
    "\n",
    "\n",
    "- The right-hand column in the above diagram is an interactive shell, whereas a Python script can be entered and run in the left pane."
   ]
  },
  {
   "cell_type": "markdown",
   "id": "22e95326",
   "metadata": {},
   "source": [
    "### Replit Online Editor\n",
    "\n",
    "- [Replit](https://replit.com/)"
   ]
  },
  {
   "cell_type": "code",
   "execution_count": null,
   "id": "063534de",
   "metadata": {},
   "outputs": [],
   "source": []
  }
 ],
 "metadata": {
  "kernelspec": {
   "display_name": "Python3.12",
   "language": "python",
   "name": "python3"
  },
  "language_info": {
   "codemirror_mode": {
    "name": "ipython",
    "version": 3
   },
   "file_extension": ".py",
   "mimetype": "text/x-python",
   "name": "python",
   "nbconvert_exporter": "python",
   "pygments_lexer": "ipython3",
   "version": "3.12.3"
  },
  "latex_envs": {
   "LaTeX_envs_menu_present": true,
   "autoclose": false,
   "autocomplete": true,
   "bibliofile": "biblio.bib",
   "cite_by": "apalike",
   "current_citInitial": 1,
   "eqLabelWithNumbers": true,
   "eqNumInitial": 1,
   "hotkeys": {
    "equation": "Ctrl-E",
    "itemize": "Ctrl-I"
   },
   "labels_anchors": false,
   "latex_user_defs": false,
   "report_style_numbering": false,
   "user_envs_cfg": false
  },
  "toc": {
   "base_numbering": 1,
   "nav_menu": {},
   "number_sections": true,
   "sideBar": true,
   "skip_h1_title": false,
   "title_cell": "Table of Contents",
   "title_sidebar": "Contents",
   "toc_cell": false,
   "toc_position": {},
   "toc_section_display": true,
   "toc_window_display": false
  }
 },
 "nbformat": 4,
 "nbformat_minor": 5
}
