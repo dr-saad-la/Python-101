{
 "cells": [
  {
   "cell_type": "markdown",
   "id": "0faaaffa-09c3-41e9-97ed-a0617e0f2deb",
   "metadata": {},
   "source": [
    "**COURSE**: **Python 101** 🐍  \n",
    "**CHAPTER**: **Python Fundamentals**  \n",
    "**LESSON**: **Built-in Methods for List Objects**  \n",
    "**Author**: **Dr. Saad Laouadi**  \n",
    "\n",
    "---\n",
    "\n",
    "### Overview:\n",
    "This lesson covers the **built-in methods** available for list objects in Python.\n",
    "\n",
    "### Learning Outcomes:\n",
    "- **Mastering Built-in methods for lists**:\n",
    "  1. **The `len()` method\n",
    "  2. **The `sorted()` method\n",
    "  3. **The `reversed()` method\n",
    "  4. **The `sum()` method\n",
    "  5. **The `min()` method\n",
    "  6. **The `max()` method\n",
    "  7. **The `zip()` method\n",
    "  8. **The `enumerate()` method\n",
    "\n",
    "---\n",
    "\n",
    "**Disclaimer**:\n",
    "\n",
    "**This course and its content are intended for educational purposes only. The author, Dr. Saad Laouadi, is not responsible for any issues, damages, or unintended results from the use of the provided code. Users must proceed at their own risk.**\n",
    "\n",
    "---\n",
    "\n",
    "**Copyright © Dr. Saad Laouadi**  \n",
    "**All Rights Reserved 🛡️**\n",
    "\n",
    "---\n"
   ]
  },
  {
   "cell_type": "code",
   "execution_count": 1,
   "id": "cd57edc0",
   "metadata": {},
   "outputs": [],
   "source": [
    "# Environment Setup\n",
    "import random\n",
    "\n",
    "import faker\n",
    "\n",
    "fake = faker.Faker()"
   ]
  },
  {
   "cell_type": "markdown",
   "id": "63625dda-3793-48b6-a396-94c6819dd2a3",
   "metadata": {},
   "source": [
    "## Counting List Elements Using the `len()` Function\n",
    "\n",
    "The `len()` built-in function returns the total number of elements in a sequence, such as a list. This is a simple and efficient way to determine the size of a list.\n",
    "\n",
    "### Example Overview\n",
    "\n",
    "In the examples below, we use the `pylist()` function from the `faker` module to generate random lists. The `pylist()` function accepts the following parameters:\n",
    "\n",
    "1. **`nb_elements`**: Specifies the number of elements to be returned. This parameter is affected by the `variable_nb_elements` option.\n",
    "2. **`variable_nb_elements`** (optional, `True` by default): If set to `False`, the number of elements returned will exactly match the value of `nb_elements`. If `True`, the number of elements may vary.\n",
    "3. **`value_types`**: Defines the type of elements to be included in the list.\n",
    "\n",
    "#### Example 1: Generating a Random List and Counting the Elements\n",
    "\n",
    "In this example, we will generate a random list and use the `len()` function to compute the number of elements in the list."
   ]
  },
  {
   "cell_type": "code",
   "execution_count": 2,
   "id": "92783dac-47ba-4cb7-a23c-58d00d5e0f89",
   "metadata": {},
   "outputs": [
    {
     "name": "stdout",
     "output_type": "stream",
     "text": [
      "Generated list: [4242, 6634, 7808, 9558, 8268, 4617, 1553, 8725, 5081, 1208, 7735, 5796, 5180]\n",
      "Number of elements: 13\n"
     ]
    }
   ],
   "source": [
    "# Generate a random list of integers\n",
    "fake.seed_instance(0)\n",
    "random_list = fake.pylist(nb_elements=fake.random_int(max=21), value_types=\"int\")\n",
    "\n",
    "# Print the generated list\n",
    "print(\"Generated list:\", random_list)\n",
    "\n",
    "# Use the len() function to count the number of elements\n",
    "number_of_elements = len(random_list)\n",
    "print(\"Number of elements:\", number_of_elements)"
   ]
  },
  {
   "cell_type": "code",
   "execution_count": 3,
   "id": "59878772-f884-42b0-9b41-bd4d12199312",
   "metadata": {},
   "outputs": [
    {
     "name": "stdout",
     "output_type": "stream",
     "text": [
      "12\n"
     ]
    }
   ],
   "source": [
    "# Set the variable_nb_elements to False\n",
    "fake.seed_instance(0)\n",
    "lst = fake.pylist(\n",
    "    nb_elements=fake.random_int(max=21), variable_nb_elements=False, value_types=\"int\"\n",
    ")\n",
    "num_elements = len(lst)\n",
    "print(num_elements)"
   ]
  },
  {
   "cell_type": "markdown",
   "id": "1cf75ba1-47cb-4363-8e71-94c147b8bae0",
   "metadata": {},
   "source": [
    "## The `sorted()` Function\n",
    "\n",
    "The `sorted()` function returns a new list that is sorted in ascending order by default. This function is versatile and works with other Python sequences such as tuples and sets. Unlike the `sort()` method, which modifies the list in place, `sorted()` creates and returns a new sorted list.\n",
    "\n",
    "### Parameters of the `sorted()` Function\n",
    "\n",
    "The `sorted()` function accepts three parameters:\n",
    "\n",
    "1. **`iterable`** (required):  \n",
    "   The sequence to be sorted, such as a list, tuple, or set.\n",
    "\n",
    "2. **`key`** (optional):  \n",
    "   A function that specifies a custom sorting order. The function will be applied to each element for comparison purposes.\n",
    "\n",
    "3. **`reverse`** (optional, `False` by default):  \n",
    "   When set to `True`, the sorting will be done in descending order. By default, sorting is performed in ascending order.\n",
    "\n",
    "### Example: Sorting a List\n",
    "\n",
    "In the following example, we generate a random list using the `faker` module and demonstrate how to sort the list in different ways."
   ]
  },
  {
   "cell_type": "code",
   "execution_count": 4,
   "id": "f449df32-5636-4616-b183-a184a020407e",
   "metadata": {},
   "outputs": [
    {
     "name": "stdout",
     "output_type": "stream",
     "text": [
      "************************************************************************\n",
      "Original list: [663, 8376, 6634, 7808, 9558, 8268]\n",
      "************************************************************************\n"
     ]
    }
   ],
   "source": [
    "# Generate a random list of integers\n",
    "fake.seed_instance(0)\n",
    "random_list = fake.pylist(nb_elements=6, value_types=\"int\")\n",
    "print(\"*\" * 72)\n",
    "print(\"Original list:\", random_list)\n",
    "print(\"*\" * 72)"
   ]
  },
  {
   "cell_type": "markdown",
   "id": "3a2de417-132a-4cde-878e-7bfbbe009912",
   "metadata": {},
   "source": [
    " 1. **Sort the list in ascending order (default)**"
   ]
  },
  {
   "cell_type": "code",
   "execution_count": 5,
   "id": "7b96398d-dba2-41ef-9a49-345341533354",
   "metadata": {},
   "outputs": [
    {
     "name": "stdout",
     "output_type": "stream",
     "text": [
      "************************************************************************\n",
      "Sorted in ascending order: [663, 6634, 7808, 8268, 8376, 9558]\n",
      "************************************************************************\n"
     ]
    }
   ],
   "source": [
    "sorted_list_asc = sorted(random_list)\n",
    "print(\"*\" * 72)\n",
    "print(\"Sorted in ascending order:\", sorted_list_asc)\n",
    "print(\"*\" * 72)"
   ]
  },
  {
   "cell_type": "markdown",
   "id": "146ffc0f",
   "metadata": {},
   "source": [
    "2. **Sorting the list in descending order.**"
   ]
  },
  {
   "cell_type": "code",
   "execution_count": 6,
   "id": "5ebdfc33",
   "metadata": {},
   "outputs": [
    {
     "name": "stdout",
     "output_type": "stream",
     "text": [
      "************************************************************************\n",
      "Sorted in descending order: [9558, 8376, 8268, 7808, 6634, 663]\n",
      "************************************************************************\n"
     ]
    }
   ],
   "source": [
    "# 2. Sort the list in descending order\n",
    "sorted_list_desc = sorted(random_list, reverse=True)\n",
    "print(\"*\" * 72)\n",
    "print(\"Sorted in descending order:\", sorted_list_desc)\n",
    "print(\"*\" * 72)"
   ]
  },
  {
   "cell_type": "markdown",
   "id": "5a040504",
   "metadata": {},
   "source": [
    "3. **Using the key Parameter**. \n",
    "\n",
    "We generate a list of random words, then we sort based on the number of characters in the string element. We will used the `words()` method from the `faker` module. "
   ]
  },
  {
   "cell_type": "code",
   "execution_count": 7,
   "id": "3d8ef182",
   "metadata": {},
   "outputs": [
    {
     "name": "stdout",
     "output_type": "stream",
     "text": [
      "**********************************************************************\n",
      "Original list of words: ['necessarily', 'totally', 'forward', 'rarely', 'literally', 'obviously']\n",
      "\n",
      "**********************************************************************\n",
      "Sorted alphabetically: ==========\n",
      "['forward', 'literally', 'necessarily', 'obviously', 'rarely', 'totally']\n",
      "\n",
      "**********************************************************************\n",
      "Sorted by the number of characters: ==========\n",
      "['rarely', 'totally', 'forward', 'literally', 'obviously', 'necessarily']\n",
      "\n",
      "**********************************************************************\n",
      "Number of characters for each word in the sorted list:\n",
      "[(6, 'rarely'), (7, 'totally'), (7, 'forward'), (9, 'literally'), (9, 'obviously'), (11, 'necessarily')]\n",
      "**********************************************************************\n"
     ]
    }
   ],
   "source": [
    "# Generate a list of random adverbs\n",
    "fake.seed_instance(11)\n",
    "random_words = fake.words(nb=6, part_of_speech=\"adverb\")\n",
    "\n",
    "# Display the original list of random words\n",
    "print(\"*\" * 70)\n",
    "print(\"Original list of words:\", random_words)\n",
    "\n",
    "# Sort the list alphabetically\n",
    "alphabetically_sorted = sorted(random_words)\n",
    "print(\"\\n\" + \"*\" * 70)\n",
    "print(\"Sorted alphabetically:\", \"=\" * 10)\n",
    "print(alphabetically_sorted)\n",
    "\n",
    "# Sort the list based on the number of characters in each word\n",
    "length_sorted = sorted(random_words, key=len)\n",
    "print(\"\\n\" + \"*\" * 70)\n",
    "print(\"Sorted by the number of characters:\", \"=\" * 10)\n",
    "print(length_sorted)\n",
    "\n",
    "# Display the number of characters for each word in the sorted list\n",
    "print(\"\\n\" + \"*\" * 70)\n",
    "print(\"Number of characters for each word in the sorted list:\")\n",
    "length_info = [(len(word), word) for word in length_sorted]\n",
    "print(length_info)\n",
    "\n",
    "print(\"*\" * 70)"
   ]
  },
  {
   "cell_type": "markdown",
   "id": "c9f5f160-e29f-413b-9c10-df28dc69f828",
   "metadata": {},
   "source": [
    "### 4. **Problem: Retrieving the Indexes of a Sorted List**\n",
    "\n",
    "While writing this tutorial, I encountered a question: **What if I want the indexes of the sorted list instead of the elements themselves?** This led me to explore two different solutions. The first solution is more verbose, while the second is more succinct.\n",
    "\n",
    "#### First Solution (Verbose):\n",
    "In this approach, we:\n",
    "1. Create a list of tuples, where each tuple contains the original element and its corresponding index.\n",
    "2. Sort this list based on the elements.\n",
    "3. Extract only the indexes from the sorted list using a list comprehension.\n",
    "\n",
    "#### Example:"
   ]
  },
  {
   "cell_type": "code",
   "execution_count": 8,
   "id": "541a6954-89c3-4380-bf1d-50afa78333ce",
   "metadata": {},
   "outputs": [
    {
     "name": "stdout",
     "output_type": "stream",
     "text": [
      "The indexed list: [('necessarily', 0), ('totally', 1), ('forward', 2), ('rarely', 3), ('literally', 4), ('obviously', 5)]\n",
      "The sorted indexed list: [('forward', 2), ('literally', 4), ('necessarily', 0), ('obviously', 5), ('rarely', 3), ('totally', 1)]\n",
      "Sorted indexes: [2, 4, 0, 5, 3, 1]\n",
      "A different way of sorting: [2, 4, 0, 5, 3, 1]\n"
     ]
    }
   ],
   "source": [
    "# Step 1: Create a list of (element, index) tuples\n",
    "indexed_lst = [(random_words[i], i) for i in range(len(random_words))]\n",
    "print(\"The indexed list:\", indexed_lst)\n",
    "\n",
    "# Step 2: Sort the list of tuples by the elements (value)\n",
    "sorted_indexed_lst = sorted(indexed_lst)\n",
    "print(\"The sorted indexed list:\", sorted_indexed_lst)\n",
    "\n",
    "# Step 3: Extract the sorted indexes\n",
    "\n",
    "sorted_indexes = [index for value, index in sorted_indexed_lst]\n",
    "print(\"Sorted indexes:\", sorted_indexes)\n",
    "\n",
    "print(\n",
    "    \"A different way of sorting:\",\n",
    "    [sorted_indexed_lst[i][1] for i in range(len(sorted_indexed_lst))],\n",
    ")"
   ]
  },
  {
   "cell_type": "markdown",
   "id": "2137b7fb-ba6d-4918-9250-092918e1e53b",
   "metadata": {},
   "source": [
    "#### Second Solution (Succinct):\n",
    "\n",
    "For a more concise solution, you can use the sorted() function with the key parameter directly on the list of indexes, without having to create intermediate lists."
   ]
  },
  {
   "cell_type": "code",
   "execution_count": 9,
   "id": "33884559-67b3-444c-967b-9a4ae6c0c161",
   "metadata": {},
   "outputs": [
    {
     "name": "stdout",
     "output_type": "stream",
     "text": [
      "Original list: ['necessarily', 'totally', 'forward', 'rarely', 'literally', 'obviously']\n",
      "Sorted indexes: [2, 4, 0, 5, 3, 1]\n"
     ]
    }
   ],
   "source": [
    "# Sort indexes based on the values in the original list\n",
    "sorted_indexes = sorted(range(len(random_words)), key=lambda i: random_words[i])\n",
    "\n",
    "print(\"Original list:\", random_words)\n",
    "print(\"Sorted indexes:\", sorted_indexes)"
   ]
  },
  {
   "cell_type": "markdown",
   "id": "992794d8-1d0f-45bf-9bc8-17fc0a3ab422",
   "metadata": {},
   "source": [
    "### Third Solution (Even More Succinct Using __getitem__):\n",
    "\n",
    "An even shorter approach leverages the __getitem__ method of the list to sort the indexes directly. This is a clean and Pythonic solution."
   ]
  },
  {
   "cell_type": "code",
   "execution_count": 10,
   "id": "ed64b4ef-4d5a-4b90-bbae-b174bc78ed62",
   "metadata": {},
   "outputs": [
    {
     "name": "stdout",
     "output_type": "stream",
     "text": [
      "Sorted indexes: [2, 4, 0, 5, 3, 1]\n"
     ]
    }
   ],
   "source": [
    "# Sort indexes using the __getitem__ method of the list\n",
    "s_idx = sorted(range(len(random_words)), key=random_words.__getitem__)\n",
    "print(\"Sorted indexes:\", s_idx)"
   ]
  },
  {
   "cell_type": "code",
   "execution_count": 11,
   "id": "fda235c1-775f-4240-bb80-6bdd602e85f6",
   "metadata": {},
   "outputs": [
    {
     "name": "stdout",
     "output_type": "stream",
     "text": [
      "Original list: ['necessarily', 'totally', 'forward', 'rarely', 'literally', 'obviously']\n",
      "Step-by-step sorting process:\n",
      "Index 0 -> Value: necessarily\n",
      "Index 1 -> Value: totally\n",
      "Index 2 -> Value: forward\n",
      "Index 3 -> Value: rarely\n",
      "Index 4 -> Value: literally\n",
      "Index 5 -> Value: obviously\n",
      "\n",
      "After sorting based on the values in the list:\n",
      "Index 2 -> Value: forward\n",
      "Index 4 -> Value: literally\n",
      "Index 0 -> Value: necessarily\n",
      "Index 5 -> Value: obviously\n",
      "Index 3 -> Value: rarely\n",
      "Index 1 -> Value: totally\n"
     ]
    }
   ],
   "source": [
    "# Create a range of indices from the list\n",
    "indices = range(\n",
    "    len(random_words)\n",
    ")  # This will give range(0, 5) for a list with 5 elements\n",
    "\n",
    "# Show how sorting works step-by-step with __getitem__\n",
    "sorted_indices = sorted(indices, key=random_words.__getitem__)\n",
    "\n",
    "# Print out the original indices, the values at those indices, and the sorted indices\n",
    "print(f\"Original list: {random_words}\")\n",
    "print(\"Step-by-step sorting process:\")\n",
    "\n",
    "for i in indices:\n",
    "    print(f\"Index {i} -> Value: {random_words[i]}\")\n",
    "\n",
    "print(\"\\nAfter sorting based on the values in the list:\")\n",
    "for i in sorted_indices:\n",
    "    print(f\"Index {i} -> Value: {random_words[i]}\")"
   ]
  },
  {
   "cell_type": "markdown",
   "id": "034da208",
   "metadata": {},
   "source": [
    "- The `range(len(lst_wrds))` generates the list of index values.\n",
    "- The key argument is set to `lst_wrds.__getitem__`, which is a built-in method that retrieves the value of the list element at the given index. This approach directly sorts the indexes based on the list’s values in an elegant way."
   ]
  },
  {
   "cell_type": "markdown",
   "id": "55ccc180",
   "metadata": {},
   "source": [
    "## The `reversed()` Function\n",
    "\n",
    "The `reversed()` function returns an iterator that accesses the given sequence in reverse order, meaning the last element becomes the first, the second-to-last becomes the second, and so on. This function works with any iterable, such as lists, tuples, and strings.\n",
    "\n",
    "### Key Points:\n",
    "- **`reversed()`** does not modify the original sequence but returns an iterator that yields the elements in reverse order.\n",
    "- To convert the reversed iterator into a list or other sequence type, you can use the **`list()` constructor** or similar methods to unpack the reversed object.\n",
    "\n",
    "### Example:\n",
    "\n",
    "In this example, we generate a random list of integers using the `pylist()` function from the `faker` module, then demonstrate how to reverse the list using `reversed()` and unpack the elements using `list()`."
   ]
  },
  {
   "cell_type": "code",
   "execution_count": 12,
   "id": "25e71a69-99c2-43b8-acaf-2337bd0cbd93",
   "metadata": {},
   "outputs": [
    {
     "name": "stdout",
     "output_type": "stream",
     "text": [
      "**************************************************\n",
      "Original list of integers: [1500, 5915, 5048, 9927, 9941, 9522]\n",
      "**************************************************\n",
      "The reversed object (iterator):\n",
      "===============================\n",
      "<list_reverseiterator object at 0x103ef3190>\n",
      "Type: <class 'list_reverseiterator'>\n",
      "**************************************************\n",
      "Reversed list: [9522, 9941, 9927, 5048, 5915, 1500]\n",
      "**************************************************\n"
     ]
    }
   ],
   "source": [
    "# Generate a random list of integers and set the seed for reproducibility\n",
    "fake.seed_instance(2)\n",
    "lst_ints = fake.pylist(nb_elements=6, variable_nb_elements=False, value_types=\"int\")\n",
    "\n",
    "# Display the original list\n",
    "print(\"*\" * 50)\n",
    "print(\"Original list of integers:\", lst_ints)\n",
    "print(\"*\" * 50)\n",
    "\n",
    "# Reverse the list using the reversed() function\n",
    "rev_lst = reversed(lst_ints)\n",
    "print(\"The reversed object (iterator):\")\n",
    "print(\"=\" * len(\"The reversed object (iterator):\"))\n",
    "print(rev_lst)\n",
    "print(\"Type:\", type(rev_lst))\n",
    "print(\"*\" * 50)\n",
    "\n",
    "# Unpack the reversed object into a list\n",
    "reversed_lst = list(rev_lst)\n",
    "print(\"Reversed list:\", reversed_lst)\n",
    "print(\"*\" * 50)"
   ]
  },
  {
   "cell_type": "markdown",
   "id": "4137b9f8",
   "metadata": {},
   "source": [
    "## The `sum()` Function\n",
    "\n",
    "The `sum()` function in Python returns the total sum of all elements in an iterable, such as a list, by adding the elements from left to right. This function can be applied to any Python sequence that contains numeric values, such as lists, tuples, or sets.\n",
    "\n",
    "### Key Points:\n",
    "- The `sum()` function works only with **numeric sequences** (i.e., lists containing integers or floats).\n",
    "- The function takes two parameters:\n",
    "  1. **`iterable`**: The sequence of numbers whose elements will be summed (e.g., a list or tuple).\n",
    "  2. **`start`** (optional, default is `0`): A value to start the summation from. This can be useful if you want to add a base value to the total sum.\n",
    "\n",
    "### Example Usage:\n",
    "\n",
    "In the example below, we use the `pylist()` function from the `faker` module to generate a random list of integers and floats. The `sum()` function is then applied to compute the total."
   ]
  },
  {
   "cell_type": "code",
   "execution_count": 13,
   "id": "7e83a855",
   "metadata": {},
   "outputs": [
    {
     "name": "stdout",
     "output_type": "stream",
     "text": [
      "**************************************************\n",
      "Generated list of integers: [9171, 7402, 3025, 3050, 7316, 2323]\n",
      "**************************************************\n",
      "The total sum of list elements is: 32287\n",
      "**************************************************\n"
     ]
    }
   ],
   "source": [
    "# Generate a random list of integers and set the seed for reproducibility\n",
    "fake.seed_instance(11)\n",
    "lst_ints = fake.pylist(nb_elements=6, variable_nb_elements=False, value_types=\"int\")\n",
    "\n",
    "# Display the original list\n",
    "print(\"*\" * 50)\n",
    "print(\"Generated list of integers:\", lst_ints)\n",
    "print(\"*\" * 50)\n",
    "\n",
    "# Calculate the sum of the elements in the list\n",
    "total_sum = sum(lst_ints)\n",
    "print(f\"The total sum of list elements is: {total_sum}\")\n",
    "print(\"*\" * 50)"
   ]
  },
  {
   "cell_type": "code",
   "execution_count": 14,
   "id": "c8bae3d0",
   "metadata": {},
   "outputs": [
    {
     "name": "stdout",
     "output_type": "stream",
     "text": [
      "**************************************************\n",
      "Generated list of floats: [-7.26725809314354, -80.1654362018853, 8979361573.9089, -59374.9266366567]\n",
      "**************************************************\n",
      "The total sum of list elements is: 8979302111.549568\n",
      "**************************************************\n"
     ]
    }
   ],
   "source": [
    "# Generate a random list of floats and set the seed for reproducibility\n",
    "fake.seed_instance(11)\n",
    "lst_floats = fake.pylist(nb_elements=4, variable_nb_elements=False, value_types=\"float\")\n",
    "\n",
    "# Display the original list of floats\n",
    "print(\"*\" * 50)\n",
    "print(\"Generated list of floats:\", lst_floats)\n",
    "print(\"*\" * 50)\n",
    "\n",
    "# Calculate the sum of the elements in the list\n",
    "total_sum = sum(lst_floats)\n",
    "print(f\"The total sum of list elements is: {total_sum}\")\n",
    "print(\"*\" * 50)"
   ]
  },
  {
   "cell_type": "code",
   "execution_count": 15,
   "id": "d4bfbbc2",
   "metadata": {},
   "outputs": [
    {
     "name": "stdout",
     "output_type": "stream",
     "text": [
      "**************************************************\n",
      "Generated list of Decimals: [Decimal('-392157792754933614872315277338516365594589305133840757186.742180967929'), Decimal('1598154.390757938347017468145384')]\n",
      "**************************************************\n",
      "The total sum of list elements is: -3.921577927549336148723152773E+56\n",
      "**************************************************\n"
     ]
    }
   ],
   "source": [
    "# Generate a random list of Decimals and set the seed for reproducibility\n",
    "fake.seed_instance(11)\n",
    "lst_dec = fake.pylist(nb_elements=2, variable_nb_elements=False, value_types=\"decimal\")\n",
    "\n",
    "# Display the original list of Decimals\n",
    "print(\"*\" * 50)\n",
    "print(\"Generated list of Decimals:\", lst_dec)\n",
    "print(\"*\" * 50)\n",
    "\n",
    "# Calculate the sum of the elements in the list\n",
    "total_sum = sum(lst_dec)\n",
    "print(f\"The total sum of list elements is: {total_sum}\")\n",
    "print(\"*\" * 50)"
   ]
  },
  {
   "cell_type": "markdown",
   "id": "0ff69937",
   "metadata": {},
   "source": [
    "2. **Setting the Start value**\n",
    "  - We can set the start value to the `sum()` method. "
   ]
  },
  {
   "cell_type": "code",
   "execution_count": 16,
   "id": "b5501325",
   "metadata": {},
   "outputs": [
    {
     "name": "stdout",
     "output_type": "stream",
     "text": [
      "**************************************************\n",
      "Generated list of integers: [1, 2, 2, 11, 5, 9]\n",
      "**************************************************\n",
      "The sum of list elements is: 30\n",
      "The sum of list elements with 100 as the start value is: 130\n",
      "**************************************************\n"
     ]
    }
   ],
   "source": [
    "# Generate a random list of integers with a seed for reproducibility\n",
    "fake.seed_instance(2)\n",
    "lst_ints = [fake.random_int(max=20) for _ in range(6)]\n",
    "\n",
    "# Display the generated list of integers\n",
    "print(\"*\" * 50)\n",
    "print(\"Generated list of integers:\", lst_ints)\n",
    "print(\"*\" * 50)\n",
    "\n",
    "# Compute the sum of the list elements\n",
    "total_sum = sum(lst_ints)\n",
    "print(f\"The sum of list elements is: {total_sum}\")\n",
    "\n",
    "# Compute the sum of the list with a starting value of 100\n",
    "sum_with_start = sum(lst_ints, start=100)\n",
    "print(f\"The sum of list elements with 100 as the start value is: {sum_with_start}\")\n",
    "print(\"*\" * 50)"
   ]
  },
  {
   "cell_type": "markdown",
   "id": "f117c954",
   "metadata": {},
   "source": [
    "## The `max()` Function\n",
    "\n",
    "The `max()` function in Python returns the largest value from a given iterable, such as a list, tuple, or set. It can also accept a `key` parameter to customize the comparison, and a `default` parameter to handle empty sequences.\n",
    "\n",
    "### Key Parameters:\n",
    "- **`iterable`**: The sequence (e.g., list, tuple) whose largest element will be returned.\n",
    "- **`key`** (optional): A function that specifies a custom comparison for determining the largest element. This can be either a built-in or user-defined function.\n",
    "- **`default`** (optional): A value that will be returned if the provided sequence is empty. Without this parameter, an empty sequence would raise a `ValueError`.\n",
    "\n",
    "### Example Usage:\n",
    "\n",
    "In the following example, we use the `pylist()` function from the `faker` module to generate a random list of integers. Then, we demonstrate how to use the `max()` function to find the largest element in the list."
   ]
  },
  {
   "cell_type": "code",
   "execution_count": 17,
   "id": "dd51aa0f",
   "metadata": {},
   "outputs": [
    {
     "name": "stdout",
     "output_type": "stream",
     "text": [
      "**************************************************\n",
      "Generated list of integers: [9709, 6061, 9516, 9922, 7687, 9024]\n",
      "**************************************************\n",
      "The largest element in the list is: 9922\n",
      "**************************************************\n"
     ]
    }
   ],
   "source": [
    "# Generate a random list of integers with a seed for reproducibility\n",
    "fake.seed_instance(3)\n",
    "lst_ints = fake.pylist(nb_elements=6, variable_nb_elements=False, value_types=\"int\")\n",
    "\n",
    "# Display the generated list of integers\n",
    "print(\"*\" * 50)\n",
    "print(\"Generated list of integers:\", lst_ints)\n",
    "print(\"*\" * 50)\n",
    "\n",
    "# Find the maximum value in the list\n",
    "max_val = max(lst_ints)\n",
    "print(f\"The largest element in the list is: {max_val}\")\n",
    "print(\"*\" * 50)"
   ]
  },
  {
   "cell_type": "markdown",
   "id": "e88940f1",
   "metadata": {},
   "source": [
    "2. **The max() method can be used with lists that have string elements. The max value will be returned based on the alphabet order.**\n",
    "Here, we generate a list of random words using `fake.words()`."
   ]
  },
  {
   "cell_type": "code",
   "execution_count": 18,
   "id": "21c04c88",
   "metadata": {},
   "outputs": [
    {
     "name": "stdout",
     "output_type": "stream",
     "text": [
      "**********************************************************************\n",
      "Generated list of random words: ['award', 'slice', 'country', 'audience', 'phrase', 'father']\n",
      "**********************************************************************\n",
      "The word with the maximum value (alphabetically) is: slice\n",
      "**********************************************************************\n"
     ]
    }
   ],
   "source": [
    "# Generate a list of random words (nouns) and set the seed for reproducibility\n",
    "fake.seed_instance(2)\n",
    "lst_wrds = fake.words(nb=6, part_of_speech=\"noun\")\n",
    "\n",
    "# Display the generated list of words\n",
    "print(\"*\" * 70)\n",
    "print(\"Generated list of random words:\", lst_wrds)\n",
    "print(\"*\" * 70)\n",
    "\n",
    "# Find the word with the maximum value (alphabetically)\n",
    "max_word = max(lst_wrds)\n",
    "print(\"The word with the maximum value (alphabetically) is:\", max_word)\n",
    "print(\"*\" * 70)"
   ]
  },
  {
   "cell_type": "markdown",
   "id": "dd7a9334",
   "metadata": {},
   "source": [
    "The result is based on the alphabet number in the ascii system. Here how it works.\n",
    "  1. Python will find the order of each character in the string element.\n",
    "  2. Then, it will find the largest value.\n",
    "\n",
    "The next example demonstrates this:"
   ]
  },
  {
   "cell_type": "code",
   "execution_count": 19,
   "id": "0dd9d6e1",
   "metadata": {},
   "outputs": [
    {
     "name": "stdout",
     "output_type": "stream",
     "text": [
      "List of words with the ASCII value of their first character:\n",
      "[('award', 97), ('slice', 115), ('country', 99), ('audience', 97), ('phrase', 112), ('father', 102)]\n",
      "Maximum based on first character: ('slice', 115)\n",
      "Maximum based on lexicographical comparison: slice\n"
     ]
    }
   ],
   "source": [
    "# Generate a list of tuples where each tuple contains a string and the ASCII value of its first character\n",
    "item_with_ord = [(item, ord(item[0])) for item in lst_wrds]\n",
    "\n",
    "# Display the list of tuples\n",
    "print(\"List of words with the ASCII value of their first character:\")\n",
    "print(item_with_ord)\n",
    "\n",
    "print(f\"Maximum based on first character: {max(item_with_ord)}\")\n",
    "print(f\"Maximum based on lexicographical comparison: {max(lst_wrds)}\")"
   ]
  },
  {
   "cell_type": "markdown",
   "id": "0ec0a1d6-c4d1-4d7d-88cd-54d0921ee71b",
   "metadata": {},
   "source": [
    "If two string elements are the same, the next characters will be compared."
   ]
  },
  {
   "cell_type": "code",
   "execution_count": 20,
   "id": "a1445462",
   "metadata": {},
   "outputs": [
    {
     "data": {
      "text/plain": [
       "True"
      ]
     },
     "execution_count": 20,
     "metadata": {},
     "output_type": "execute_result"
    }
   ],
   "source": [
    "# Final Checking\n",
    "max(item_with_ord) == max(\n",
    "    [(item, ord(item[i])) for item in lst_wrds for i in range(len(item))]\n",
    ")"
   ]
  },
  {
   "cell_type": "markdown",
   "id": "4b215336",
   "metadata": {},
   "source": [
    "**3. Using the `key` parameter**:\n",
    "\n",
    "- We can find the element with the largest value based on a key function passed to the the `key` parameter.\n",
    "- In this example I will be using the `faker` module to generate a list of random words. "
   ]
  },
  {
   "cell_type": "code",
   "execution_count": 21,
   "id": "91e78cdf-5945-461d-8e3b-c40dd5326eb6",
   "metadata": {},
   "outputs": [
    {
     "name": "stdout",
     "output_type": "stream",
     "text": [
      "**********************************************************************\n",
      "Generated list of random words: ['such', 'serious', 'inside', 'else', 'memory', 'if', 'six', 'field', 'live', 'on', 'traditional', 'measure', 'example', 'sense', 'peace', 'economy', 'travel', 'work', 'special', 'total', 'financial', 'role', 'together', 'range', 'line', 'beyond', 'its', 'particularly', 'tree', 'whom', 'local', 'tend', 'employee', 'source', 'nature', 'add', 'rest', 'human', 'station', 'property', 'ability', 'management', 'test', 'during', 'foot', 'that', 'course', 'nothing', 'draw', 'whose', 'sort', 'language', 'ball', 'floor', 'meet', 'usually', 'board', 'necessary', 'religious', 'natural', 'sport', 'music', 'white', 'owner', 'onto', 'knowledge', 'other', 'his', 'offer', 'face', 'country', 'cost', 'party', 'prevent', 'live', 'bed', 'serious', 'theory', 'type', 'successful', 'together', 'type', 'music', 'hospital', 'relate', 'every', 'speech', 'support', 'time', 'operation', 'wear', 'often', 'late', 'produce', 'you', 'true', 'soldier', 'bank', 'party', 'main']\n",
      "**********************************************************************\n",
      "The longest word in the list is: particularly\n",
      "**********************************************************************\n",
      "Number of characters in each word: [4, 7, 6, 4, 6, 2, 3, 5, 4, 2, 11, 7, 7, 5, 5, 7, 6, 4, 7, 5, 9, 4, 8, 5, 4, 6, 3, 12, 4, 4, 5, 4, 8, 6, 6, 3, 4, 5, 7, 8, 7, 10, 4, 6, 4, 4, 6, 7, 4, 5, 4, 8, 4, 5, 4, 7, 5, 9, 9, 7, 5, 5, 5, 5, 4, 9, 5, 3, 5, 4, 7, 4, 5, 7, 4, 3, 7, 6, 4, 10, 8, 4, 5, 8, 6, 5, 6, 7, 4, 9, 4, 5, 4, 7, 3, 4, 7, 4, 5, 4]\n",
      "**********************************************************************\n"
     ]
    }
   ],
   "source": [
    "# Generate a list of random words and set the seed for reproducibility\n",
    "fake.seed_instance(0)\n",
    "words = fake.words(nb=100)\n",
    "\n",
    "# Display the generated list of random words\n",
    "print(\"*\" * 70)\n",
    "print(\"Generated list of random words:\", words)\n",
    "print(\"*\" * 70)\n",
    "\n",
    "# Find the longest word in the list using the max() function and the len() function as the key\n",
    "longest_word = max(words, key=len)\n",
    "print(f\"The longest word in the list is: {longest_word}\")\n",
    "print(\"*\" * 70)\n",
    "\n",
    "# Print the number of characters for each word in the list\n",
    "word_lengths = [len(word) for word in words]\n",
    "print(\"Number of characters in each word:\", word_lengths)\n",
    "print(\"*\" * 70)"
   ]
  },
  {
   "cell_type": "markdown",
   "id": "d8fd3f11",
   "metadata": {},
   "source": [
    "### 5. **Challenges**\n",
    "\n",
    "1. **Find the Index of the Alphabetically Largest Word**:  \n",
    "   Determine the index of the word that comes last in alphabetical order within the list.\n",
    "\n",
    "2. **Find the Index of the Longest Word**:  \n",
    "   Identify the index of the word with the most characters in the list."
   ]
  },
  {
   "cell_type": "code",
   "execution_count": 22,
   "id": "bd43fc57-2693-40b6-9906-1d4100fc0097",
   "metadata": {},
   "outputs": [
    {
     "name": "stdout",
     "output_type": "stream",
     "text": [
      "Alphabetically largest word: you\n",
      "Index of alphabetically largest word: 94\n",
      "Longest word: particularly\n",
      "Index of longest word: 27\n"
     ]
    }
   ],
   "source": [
    "# Generate a list of random words and set the seed for reproducibility\n",
    "fake.seed_instance(0)\n",
    "words = fake.words(nb=100)\n",
    "\n",
    "# Challenge 1: Find the index of the alphabetically largest word\n",
    "max_word_alphabetically = max(words)\n",
    "max_word_alpha_index = words.index(max_word_alphabetically)\n",
    "\n",
    "# Challenge 2: Find the index of the longest word\n",
    "longest_word = max(words, key=len)\n",
    "longest_word_index = words.index(longest_word)\n",
    "\n",
    "# Display results\n",
    "print(\"Alphabetically largest word:\", max_word_alphabetically)\n",
    "print(f\"Index of alphabetically largest word: {max_word_alpha_index}\")\n",
    "\n",
    "print(\"Longest word:\", longest_word)\n",
    "print(f\"Index of longest word: {longest_word_index}\")"
   ]
  },
  {
   "cell_type": "code",
   "execution_count": 23,
   "id": "dfb6af69",
   "metadata": {},
   "outputs": [
    {
     "name": "stdout",
     "output_type": "stream",
     "text": [
      "The index of max word is 94\n"
     ]
    }
   ],
   "source": [
    "# The index of max word is:\n",
    "index_max = max(range(len(words)), key=words.__getitem__)\n",
    "print(\"The index of max word is\", index_max)"
   ]
  },
  {
   "cell_type": "code",
   "execution_count": 24,
   "id": "6851f2d8",
   "metadata": {},
   "outputs": [
    {
     "name": "stdout",
     "output_type": "stream",
     "text": [
      "******************************\n",
      "(12, 27)\n",
      "The index of max word is: 27\n",
      "******************************\n"
     ]
    }
   ],
   "source": [
    "# The index of longest word\n",
    "ind_longest_words = max([(len(word), i) for word, i in zip(words, range(len(words)))])\n",
    "print(\"*\" * 30)\n",
    "print(ind_longest_words)\n",
    "print(\"The index of max word is:\", ind_longest_words[1])\n",
    "print(\"*\" * 30)"
   ]
  },
  {
   "cell_type": "markdown",
   "id": "81c9fab7",
   "metadata": {},
   "source": [
    "**6. Practice**\n",
    "\n",
    " - Finding the longest word and its position in a list of 350 elements. "
   ]
  },
  {
   "cell_type": "code",
   "execution_count": 25,
   "id": "10f0f3c2",
   "metadata": {},
   "outputs": [
    {
     "name": "stdout",
     "output_type": "stream",
     "text": [
      "**********************************************************************\n",
      "The index of the longest word is: 125\n",
      "The number of characters in the longest word is: 14\n",
      "The longest word in the list is: 'responsibility'\n",
      "**********************************************************************\n"
     ]
    }
   ],
   "source": [
    "# Generate a list of 350 random words and set the seed for reproducibility\n",
    "fake.seed_instance(1010)\n",
    "words = fake.words(nb=350)\n",
    "\n",
    "# Find the longest word and its index in the list\n",
    "longest_word_info = max([(len(word), i) for i, word in enumerate(words)])\n",
    "\n",
    "# Display the results\n",
    "print(\"*\" * 70)\n",
    "print(f\"The index of the longest word is: {longest_word_info[1]}\")\n",
    "print(f\"The number of characters in the longest word is: {longest_word_info[0]}\")\n",
    "print(f\"The longest word in the list is: '{words[longest_word_info[1]]}'\")\n",
    "print(\"*\" * 70)"
   ]
  },
  {
   "cell_type": "markdown",
   "id": "24ab82d2",
   "metadata": {},
   "source": [
    "## The `min()` Function\n",
    "\n",
    "The `min()` function in Python returns the smallest (or lowest) value from a specified iterable, such as a list, tuple, or set. Like `max()`, the `min()` function also supports custom comparison with the `key` parameter and can handle empty sequences with the `default` parameter.\n",
    "\n",
    "### Key Parameters:\n",
    "1. **`iterable`**:  \n",
    "   The sequence (e.g., list, tuple) from which the lowest value will be determined.\n",
    "   \n",
    "2. **`key`** (optional):  \n",
    "   A function that can be used to specify custom comparison logic. This can be either a built-in or user-defined function.\n",
    "   \n",
    "3. **`default`** (optional):  \n",
    "   The value to return if the sequence is empty. Without this parameter, an empty sequence would raise a `ValueError`.\n",
    "\n",
    "### Example:\n",
    "\n",
    "In the following example, we use the `pylist()` function from the `faker` module to generate a random list of integers and demonstrate how to use the `min()` function to find the smallest value."
   ]
  },
  {
   "cell_type": "code",
   "execution_count": 26,
   "id": "6953c39b",
   "metadata": {},
   "outputs": [
    {
     "name": "stdout",
     "output_type": "stream",
     "text": [
      "**************************************************\n",
      "Generated list of integers: [7693, 6436, 708, 1842, 2287, 542]\n",
      "**************************************************\n",
      "The lowest element in the list is: 542\n",
      "**************************************************\n"
     ]
    }
   ],
   "source": [
    "# Generate a random list of integers with a seed for reproducibility\n",
    "fake.seed_instance(31)\n",
    "lst_ints = fake.pylist(nb_elements=6, variable_nb_elements=False, value_types=\"int\")\n",
    "\n",
    "# Display the generated list of integers\n",
    "print(\"*\" * 50)\n",
    "print(\"Generated list of integers:\", lst_ints)\n",
    "print(\"*\" * 50)\n",
    "\n",
    "# Find the lowest value in the list\n",
    "min_val = min(lst_ints)\n",
    "print(f\"The lowest element in the list is: {min_val}\")\n",
    "print(\"*\" * 50)"
   ]
  },
  {
   "cell_type": "markdown",
   "id": "658563a4",
   "metadata": {},
   "source": [
    "2. **The min() method can be used with lists that have string elements. The min value will be returned based on the alphabet order.**\n",
    "\n",
    "Here, we generate a list of random words using `fake.words()`."
   ]
  },
  {
   "cell_type": "code",
   "execution_count": 27,
   "id": "b52c47aa",
   "metadata": {},
   "outputs": [
    {
     "name": "stdout",
     "output_type": "stream",
     "text": [
      "**********************************************************************\n",
      "Generated list of adjectives: ['large', 'helpful', 'good', 'western', 'competitive', 'helpful']\n",
      "**********************************************************************\n",
      "The alphabetically smallest word in the list is: competitive\n",
      "**********************************************************************\n"
     ]
    }
   ],
   "source": [
    "# Generate a list of random adjectives and set the seed for reproducibility\n",
    "fake.seed_instance(31)\n",
    "lst_wrds = fake.words(nb=6, part_of_speech=\"adjective\")\n",
    "\n",
    "# Display the generated list of random words (adjectives)\n",
    "print(\"*\" * 70)\n",
    "print(\"Generated list of adjectives:\", lst_wrds)\n",
    "print(\"*\" * 70)\n",
    "\n",
    "# Find the alphabetically smallest word in the list\n",
    "min_word = min(lst_wrds)\n",
    "print(f\"The alphabetically smallest word in the list is: {min_word}\")\n",
    "print(\"*\" * 70)"
   ]
  },
  {
   "cell_type": "code",
   "execution_count": 28,
   "id": "401c6564",
   "metadata": {},
   "outputs": [
    {
     "name": "stdout",
     "output_type": "stream",
     "text": [
      "**************************************************\n",
      "List of words with the ASCII value of their first character:\n",
      "[('large', 108), ('helpful', 104), ('good', 103), ('western', 119), ('competitive', 99), ('helpful', 104)]\n",
      "**************************************************\n",
      "The word with the smallest first character is: ('competitive', 99)\n",
      "**************************************************\n"
     ]
    }
   ],
   "source": [
    "# Create a list of tuples containing each word and the ASCII value of its first character\n",
    "item_ord = [(item, ord(item[0])) for item in lst_wrds]\n",
    "\n",
    "# Display the list of tuples (word, ASCII value of the first character)\n",
    "print(\"*\" * 50)\n",
    "print(\"List of words with the ASCII value of their first character:\")\n",
    "print(item_ord)\n",
    "print(\"*\" * 50)\n",
    "\n",
    "# Find and display the word with the smallest first character (by ASCII value)\n",
    "min_item = min(item_ord, key=lambda x: x[1])\n",
    "print(f\"The word with the smallest first character is: {min_item}\")\n",
    "print(\"*\" * 50)"
   ]
  },
  {
   "cell_type": "markdown",
   "id": "06a191a3",
   "metadata": {},
   "source": [
    "**3. Using the `key` parameter**:\n",
    "\n",
    " - We can find the element with the lowest value based on a key function passed to the the `key` parameter.\n",
    " - In this example I will be using the `faker` module to generate a list of random words. "
   ]
  },
  {
   "cell_type": "code",
   "execution_count": 29,
   "id": "4105e5b6",
   "metadata": {},
   "outputs": [
    {
     "name": "stdout",
     "output_type": "stream",
     "text": [
      "**********************************************************************\n",
      "Generated list of random words: ['such', 'serious', 'inside', 'else', 'memory', 'if', 'six', 'field', 'live', 'on', 'traditional', 'measure', 'example', 'sense', 'peace', 'economy', 'travel', 'work', 'special', 'total', 'financial', 'role', 'together', 'range', 'line', 'beyond', 'its', 'particularly', 'tree', 'whom', 'local', 'tend', 'employee', 'source', 'nature', 'add', 'rest', 'human', 'station', 'property', 'ability', 'management', 'test', 'during', 'foot', 'that', 'course', 'nothing', 'draw', 'whose', 'sort', 'language', 'ball', 'floor', 'meet', 'usually', 'board', 'necessary', 'religious', 'natural', 'sport', 'music', 'white', 'owner', 'onto', 'knowledge', 'other', 'his', 'offer', 'face', 'country', 'cost', 'party', 'prevent', 'live', 'bed', 'serious', 'theory', 'type', 'successful', 'together', 'type', 'music', 'hospital', 'relate', 'every', 'speech', 'support', 'time', 'operation', 'wear', 'often', 'late', 'produce', 'you', 'true', 'soldier', 'bank', 'party', 'main']\n",
      "**********************************************************************\n",
      "The shortest word in the list (based on length) is: if\n",
      "**********************************************************************\n",
      "Number of characters in each word: [4, 7, 6, 4, 6, 2, 3, 5, 4, 2, 11, 7, 7, 5, 5, 7, 6, 4, 7, 5, 9, 4, 8, 5, 4, 6, 3, 12, 4, 4, 5, 4, 8, 6, 6, 3, 4, 5, 7, 8, 7, 10, 4, 6, 4, 4, 6, 7, 4, 5, 4, 8, 4, 5, 4, 7, 5, 9, 9, 7, 5, 5, 5, 5, 4, 9, 5, 3, 5, 4, 7, 4, 5, 7, 4, 3, 7, 6, 4, 10, 8, 4, 5, 8, 6, 5, 6, 7, 4, 9, 4, 5, 4, 7, 3, 4, 7, 4, 5, 4]\n",
      "**********************************************************************\n"
     ]
    }
   ],
   "source": [
    "# Generate a list of 100 random words and set the seed for reproducibility\n",
    "fake.seed_instance(0)\n",
    "words = fake.words(nb=100)\n",
    "\n",
    "# Display the generated list of random words\n",
    "print(\"*\" * 70)\n",
    "print(\"Generated list of random words:\", words)\n",
    "print(\"*\" * 70)\n",
    "\n",
    "# Find the word with the fewest characters in the list\n",
    "shortest_word = min(words, key=len)\n",
    "print(f\"The shortest word in the list (based on length) is: {shortest_word}\")\n",
    "print(\"*\" * 70)\n",
    "\n",
    "# Print the number of characters in each word\n",
    "word_lengths = [len(item) for item in words]\n",
    "print(\"Number of characters in each word:\", word_lengths)\n",
    "print(\"*\" * 70)"
   ]
  },
  {
   "cell_type": "markdown",
   "id": "0150904d",
   "metadata": {},
   "source": [
    "### 5. **Challenges**\n",
    "\n",
    "1. **Find the Index of the Alphabetically Smallest Word**:  \n",
    "   Determine the index of the word that comes first in alphabetical order from the list.\n",
    "\n",
    "2. **Find the Index of the Shortest Word (by Length)**:  \n",
    "   Identify the index of the word with the fewest characters in the list."
   ]
  },
  {
   "cell_type": "code",
   "execution_count": 30,
   "id": "8d5c3bc1-e003-4d33-90b3-1e72ad15b597",
   "metadata": {},
   "outputs": [
    {
     "name": "stdout",
     "output_type": "stream",
     "text": [
      "Alphabetically smallest word: 'ability' at index 40\n",
      "Shortest word: 'if' at index 5\n"
     ]
    }
   ],
   "source": [
    "# Generate a list of random words\n",
    "fake.seed_instance(0)\n",
    "words = fake.words(nb=100)\n",
    "\n",
    "# Challenge 1: Find the index of the alphabetically smallest word\n",
    "min_word_alphabetically = min(words)\n",
    "min_word_alpha_index = words.index(min_word_alphabetically)\n",
    "\n",
    "# Challenge 2: Find the index of the shortest word (by length)\n",
    "shortest_word = min(words, key=len)\n",
    "shortest_word_index = words.index(shortest_word)\n",
    "\n",
    "# Display results\n",
    "print(\n",
    "    f\"Alphabetically smallest word: '{min_word_alphabetically}' at index {min_word_alpha_index}\"\n",
    ")\n",
    "print(f\"Shortest word: '{shortest_word}' at index {shortest_word_index}\")"
   ]
  },
  {
   "cell_type": "code",
   "execution_count": 31,
   "id": "257aea7e",
   "metadata": {},
   "outputs": [
    {
     "name": "stdout",
     "output_type": "stream",
     "text": [
      "The index of min word is 40\n"
     ]
    }
   ],
   "source": [
    "# The index of min word is:\n",
    "index_min = min(range(len(words)), key=words.__getitem__)\n",
    "print(\"The index of min word is\", index_min)"
   ]
  },
  {
   "cell_type": "code",
   "execution_count": 32,
   "id": "6c8261b6",
   "metadata": {},
   "outputs": [
    {
     "name": "stdout",
     "output_type": "stream",
     "text": [
      "******************************\n",
      "(2, 5)\n",
      "The index of shortest word is: 5\n",
      "The shortest word is: if\n",
      "******************************\n"
     ]
    }
   ],
   "source": [
    "# The index of lowest word\n",
    "ind_shortest_words = min([(len(word), i) for word, i in zip(words, range(len(words)))])\n",
    "print(\"*\" * 30)\n",
    "print(ind_shortest_words)\n",
    "print(\"The index of shortest word is:\", ind_shortest_words[1])\n",
    "print(\"The shortest word is:\", words[ind_shortest_words[1]])\n",
    "print(\"*\" * 30)"
   ]
  },
  {
   "cell_type": "markdown",
   "id": "f48ea537",
   "metadata": {},
   "source": [
    "### 6. **Practice Exercise**\n",
    "\n",
    "- **Task**: Find the shortest word and its index in a list of 350 randomly generated words.\n",
    "\n",
    "In this practice exercise, you will generate a list of 350 random words and identify the shortest word based on its character length. Additionally, you will find and display its index within the list."
   ]
  },
  {
   "cell_type": "code",
   "execution_count": 33,
   "id": "6fd81d58-066d-47ab-b555-eb4f648a8df9",
   "metadata": {},
   "outputs": [
    {
     "name": "stdout",
     "output_type": "stream",
     "text": [
      "The shortest word in the list is: 'a'\n",
      "The index of the shortest word is: 76\n"
     ]
    }
   ],
   "source": [
    "# Generate a list of 350 random words\n",
    "fake.seed_instance(1010)\n",
    "words = fake.words(nb=350)\n",
    "\n",
    "# Find the shortest word and its index in the list\n",
    "shortest_word = min(words, key=len)\n",
    "shortest_word_index = words.index(shortest_word)\n",
    "\n",
    "# Display results\n",
    "print(f\"The shortest word in the list is: '{shortest_word}'\")\n",
    "print(f\"The index of the shortest word is: {shortest_word_index}\")"
   ]
  },
  {
   "cell_type": "code",
   "execution_count": 34,
   "id": "d2e0b4e6",
   "metadata": {},
   "outputs": [
    {
     "name": "stdout",
     "output_type": "stream",
     "text": [
      "**********************************************************************\n",
      "The index of the shortest word is: 195\n",
      "The number of characters in the shortest word is: 1\n",
      "The shortest word in the list is: 'I'\n",
      "**********************************************************************\n"
     ]
    }
   ],
   "source": [
    "# Generate a list of 950 random words with a seed for reproducibility\n",
    "fake.seed_instance(0)\n",
    "words = fake.words(nb=950)\n",
    "\n",
    "# Find the shortest word and its index in the list\n",
    "shortest_word_info = min(\n",
    "    [(len(word), i) for i, word in enumerate(words)], key=lambda x: x[0]\n",
    ")\n",
    "\n",
    "# Display the results\n",
    "print(\"*\" * 70)\n",
    "print(f\"The index of the shortest word is: {shortest_word_info[1]}\")\n",
    "print(f\"The number of characters in the shortest word is: {shortest_word_info[0]}\")\n",
    "print(f\"The shortest word in the list is: '{words[shortest_word_info[1]]}'\")\n",
    "print(\"*\" * 70)"
   ]
  },
  {
   "cell_type": "markdown",
   "id": "ae905b3d",
   "metadata": {},
   "source": [
    "## The `zip()` Function\n",
    "\n",
    "The `zip()` function in Python takes two or more iterables (such as lists, tuples, etc.) and combines their elements into pairs (or tuples), creating an iterable of tuples. Each tuple contains one element from each of the original iterables, grouped by their respective positions.\n",
    "\n",
    "### Key Points:\n",
    "- **`zip()`**: Combines elements from multiple iterables into tuples. The function stops when the shortest iterable is exhausted, meaning the resulting list of tuples will be as long as the shortest input iterable.\n",
    "- **Return Type**: The `zip()` function returns a `zip` object, which is an iterator. To convert this into a list or another collection type, you can use the `list()` constructor or the unpacking operator (`*`).\n",
    "\n",
    "### Unpacking a `zip` Object:\n",
    "1. **Using `list()`**: Convert the `zip` object into a list of tuples.\n",
    "2. **Using `*` Operator**: You can also use the unpacking operator to unzip the elements back into separate lists.\n",
    "\n",
    "### Example:\n",
    "\n",
    "Generate three random lists of integers with different seed values for reproducibility"
   ]
  },
  {
   "cell_type": "code",
   "execution_count": 35,
   "id": "993a55fb",
   "metadata": {},
   "outputs": [
    {
     "name": "stdout",
     "output_type": "stream",
     "text": [
      "List 1: [1500, 5915, 5048, 9927, 9941, 9522]\n",
      "List 2: [3975, 7325, 1975, 1305, 4411, 5233]\n",
      "List 3: [3854, 5015, 478, 3653, 7230, 1230]\n"
     ]
    }
   ],
   "source": [
    "# Generate the first list of integers\n",
    "fake.seed_instance(2)\n",
    "lst_1 = fake.pylist(nb_elements=6, variable_nb_elements=False, value_types=\"int\")\n",
    "\n",
    "# Generate the second list of integers\n",
    "fake.seed_instance(22)\n",
    "lst_2 = fake.pylist(nb_elements=6, variable_nb_elements=False, value_types=\"int\")\n",
    "\n",
    "# Generate the third list of integers\n",
    "fake.seed_instance(222)\n",
    "lst_3 = fake.pylist(nb_elements=6, variable_nb_elements=False, value_types=\"int\")\n",
    "\n",
    "# Display the generated lists\n",
    "print(\"List 1:\", lst_1)\n",
    "print(\"List 2:\", lst_2)\n",
    "print(\"List 3:\", lst_3)"
   ]
  },
  {
   "cell_type": "code",
   "execution_count": 36,
   "id": "4d2f2459",
   "metadata": {},
   "outputs": [
    {
     "name": "stdout",
     "output_type": "stream",
     "text": [
      "Zipped object: <zip object at 0x103f38540>\n",
      "Type of zip object: <class 'zip'>\n",
      "Zipped list: [(1500, 3975), (5915, 7325), (5048, 1975), (9927, 1305), (9941, 4411), (9522, 5233)]\n"
     ]
    }
   ],
   "source": [
    "# Zip the first two lists together\n",
    "zip_obj = zip(lst_1, lst_2)\n",
    "\n",
    "# Display the zip object and its type\n",
    "print(\n",
    "    \"Zipped object:\", zip_obj\n",
    ")  # This will only display the object reference, not the actual contents\n",
    "print(\"Type of zip object:\", type(zip_obj))\n",
    "\n",
    "# Convert the zip object into a list of tuples to view the zipped elements\n",
    "zipped_list = list(zip_obj)\n",
    "print(\"Zipped list:\", zipped_list)"
   ]
  },
  {
   "cell_type": "code",
   "execution_count": 37,
   "id": "823915b8",
   "metadata": {},
   "outputs": [
    {
     "name": "stdout",
     "output_type": "stream",
     "text": [
      "[(1500, 3975, 3854), (5915, 7325, 5015), (5048, 1975, 478), (9927, 1305, 3653), (9941, 4411, 7230), (9522, 5233, 1230)]\n"
     ]
    }
   ],
   "source": [
    "# Zip the three list\n",
    "zip_three = list(zip(lst_1, lst_2, lst_3))\n",
    "print(zip_three)"
   ]
  },
  {
   "cell_type": "markdown",
   "id": "6b61f309",
   "metadata": {},
   "source": [
    "**Note**: **The `*` Unpacking Operator** \n",
    "\n",
    "- The `*` operator, also known as the unpacking operator, can be used to unzip a `zip` object, separating it back into individual lists or sequences.\n",
    "- This technique is commonly referred to as \"unpacking,\" and it allows you to reverse the effect of the `zip()` function by splitting the zipped elements back into their original lists."
   ]
  },
  {
   "cell_type": "code",
   "execution_count": 38,
   "id": "23207805",
   "metadata": {},
   "outputs": [
    {
     "name": "stdout",
     "output_type": "stream",
     "text": [
      "[(1500, 3975, 3854), (5915, 7325, 5015), (5048, 1975, 478), (9927, 1305, 3653), (9941, 4411, 7230), (9522, 5233, 1230)]\n"
     ]
    }
   ],
   "source": [
    "zipped = [*zip(lst_1, lst_2, lst_3)]\n",
    "print(zipped)"
   ]
  },
  {
   "cell_type": "markdown",
   "id": "f80b87cf",
   "metadata": {},
   "source": [
    "### **Flattening a List of Tuples**\n",
    "\n",
    "- You can flatten a list of tuples into a single list using list comprehension. This technique allows you to extract the individual elements from each tuple and combine them into a single flat list."
   ]
  },
  {
   "cell_type": "code",
   "execution_count": 39,
   "id": "05e83c72",
   "metadata": {},
   "outputs": [
    {
     "name": "stdout",
     "output_type": "stream",
     "text": [
      "[1500, 3975, 3854, 5915, 7325, 5015, 5048, 1975, 478, 9927, 1305, 3653, 9941, 4411, 7230, 9522, 5233, 1230]\n"
     ]
    }
   ],
   "source": [
    "flattened = [elem for sublist in zipped for elem in sublist]\n",
    "print(flattened)"
   ]
  },
  {
   "cell_type": "markdown",
   "id": "6a04cc25-1b41-4b3b-a3f3-50cbc6ac24f2",
   "metadata": {},
   "source": [
    "## The `enumerate()` Function\n",
    "\n",
    "The `enumerate()` function in Python adds a counter to an iterable (such as a list, tuple, or string) and returns it as an `enumerate` object. This function is useful when you need both the index and the value of elements in a loop.\n",
    "\n",
    "### Key Points:\n",
    "- **`enumerate()`**: This function allows you to loop through an iterable while keeping track of both the index and the value of each element.\n",
    "- **Return Type**: It returns an `enumerate` object, which can be directly used in `for` loops or converted into a list of tuples.\n",
    "\n",
    "### Example"
   ]
  },
  {
   "cell_type": "code",
   "execution_count": 40,
   "id": "5f79140c-a9ca-4d67-b369-2e22e3bd4998",
   "metadata": {},
   "outputs": [
    {
     "name": "stdout",
     "output_type": "stream",
     "text": [
      "Person 1: Allison Hill\n",
      "Person 2: Noah Rhodes\n",
      "Person 3: Angie Henderson\n",
      "Person 4: Daniel Wagner\n",
      "Person 5: Cristian Santos\n"
     ]
    }
   ],
   "source": [
    "# Generate a list of random names using the Faker module\n",
    "fake.seed_instance(42)  # Setting seed for reproducibility\n",
    "names = [fake.name() for _ in range(5)]\n",
    "\n",
    "# Use enumerate to loop through the list of names with index and value\n",
    "for index, name in enumerate(names, start=1):\n",
    "    print(f\"Person {index}: {name}\")"
   ]
  },
  {
   "cell_type": "markdown",
   "id": "4f8d98c6-b00c-4bca-97d6-86c6f0d7a761",
   "metadata": {},
   "source": [
    "## Background about the `enumerate` Method\n",
    "\n",
    "The enumerate() function is versatile and widely used in Python, especially when iterating over sequences where both the index and the element are needed. To provide a more complete understanding of the function, here are additional points that can be included:\n",
    "\n",
    "Additional Key Points to Discuss:\n",
    "\n",
    "1.\tAdvantages of `enumerate()`:\n",
    "  - Readable Code: Instead of manually tracking indices using range(len(iterable)), enumerate() allows for cleaner, more readable code.\n",
    "  - Efficient: Since enumerate() is an iterator, it generates values lazily, making it memory-efficient even for large data sets. Unlike manually constructing index-value pairs, it doesn’t create an intermediate list of indices.\n",
    "\n",
    "3.\tCommon Use Cases:\n",
    "\t- Looping with Indexes: Often used when you need both the index and the value from a sequence, such as in:\n",
    "\t- Printing elements with their positions.\n",
    "\t- Modifying elements at specific positions in-place.\n",
    "\t- Debugging: During debugging, you can use enumerate() to print both the value and its position to quickly identify issues in your loop logic.\n",
    "4.\tComparison to `range()`:\n",
    "\t- range(len(iterable)) is commonly used to get indices when looping over an iterable. However, enumerate() is a more Pythonic approach because it’s simpler, avoids errors, and doesn’t require a separate call to len().\n",
    "5.\tWorking with Custom Starting Index:\n",
    "\t- You can specify a custom starting index (e.g., starting from 1 or even negative indices). This is useful in certain contexts, such as displaying line numbers, processing rows in a file, or assigning ranks.\n",
    "Example:"
   ]
  },
  {
   "cell_type": "code",
   "execution_count": 41,
   "id": "32677652-af57-4362-88e1-f505d52c6418",
   "metadata": {},
   "outputs": [
    {
     "name": "stdout",
     "output_type": "stream",
     "text": [
      "ID 100: Allison Hill\n",
      "ID 101: Noah Rhodes\n",
      "ID 102: Angie Henderson\n",
      "ID 103: Daniel Wagner\n",
      "ID 104: Cristian Santos\n"
     ]
    }
   ],
   "source": [
    "# Custom starting index\n",
    "for index, name in enumerate(names, start=100):\n",
    "    print(f\"ID {index}: {name}\")"
   ]
  },
  {
   "cell_type": "markdown",
   "id": "a4321113-7f93-488e-9617-5986e0e74218",
   "metadata": {},
   "source": [
    "5.\tUnpacking with `enumerate()`:\n",
    "\t- When working with more complex data structures like lists of tuples, you can use `enumerate()` to simultaneously unpack and loop over the elements.\n",
    "\n",
    "### Example:"
   ]
  },
  {
   "cell_type": "code",
   "execution_count": 42,
   "id": "9a204b24-5217-4e21-8fa2-9e7bb4b905b2",
   "metadata": {},
   "outputs": [
    {
     "name": "stdout",
     "output_type": "stream",
     "text": [
      "1: John is 28 years old.\n",
      "2: Alice is 24 years old.\n",
      "3: Bob is 32 years old.\n"
     ]
    }
   ],
   "source": [
    "# Example with a list of tuples\n",
    "people = [(\"John\", 28), (\"Alice\", 24), (\"Bob\", 32)]\n",
    "\n",
    "for index, (name, age) in enumerate(people, start=1):\n",
    "    print(f\"{index}: {name} is {age} years old.\")"
   ]
  },
  {
   "cell_type": "markdown",
   "id": "9aac5fd9-77b4-4fe9-a941-25ba72b7387d",
   "metadata": {},
   "source": [
    "6. Enumerating Dictionaries:\n",
    "  - While enumerate() is primarily used with lists and sequences, it can also be applied to dictionaries (if you iterate over their keys, values, or items).\n",
    "\n",
    "\n",
    "Example:"
   ]
  },
  {
   "cell_type": "code",
   "execution_count": 43,
   "id": "241eb33f-5e1a-41ea-8759-d002a91047a1",
   "metadata": {},
   "outputs": [
    {
     "name": "stdout",
     "output_type": "stream",
     "text": [
      "1: John is 28 years old.\n",
      "2: Alice is 24 years old.\n",
      "3: Bob is 32 years old.\n"
     ]
    }
   ],
   "source": [
    "# Example with a dictionary\n",
    "ages = {\"John\": 28, \"Alice\": 24, \"Bob\": 32}\n",
    "\n",
    "for index, (name, age) in enumerate(ages.items(), start=1):\n",
    "    print(f\"{index}: {name} is {age} years old.\")"
   ]
  },
  {
   "cell_type": "markdown",
   "id": "110436ae-f208-4c0e-beac-744f05c3c759",
   "metadata": {},
   "source": [
    "7.\t**Enumerating Files:**\n",
    "\t - enumerate() is often used when processing files where both the line number and content are important. This is helpful when logging or error tracking.\n",
    "\n",
    "Example:\n",
    "\n",
    "```python\n",
    "# Reading a file and printing line numbers with content\n",
    "with open(\"sample.txt\", \"r\") as file:\n",
    "    for line_number, line_content in enumerate(file, start=1):\n",
    "        print(f\"Line {line_number}: {line_content.strip()}\")\n",
    "```"
   ]
  },
  {
   "cell_type": "markdown",
   "id": "2e8d3a1b-1838-49f3-936f-cdf7611af34b",
   "metadata": {},
   "source": [
    "8.\t**Custom Enumeration Logic:**\n",
    "\t - You can even use `enumerate()` in custom generator functions or when working with your own data classes.\n"
   ]
  }
 ],
 "metadata": {
  "kernelspec": {
   "display_name": "Python3.12",
   "language": "python",
   "name": "python3"
  },
  "language_info": {
   "codemirror_mode": {
    "name": "ipython",
    "version": 3
   },
   "file_extension": ".py",
   "mimetype": "text/x-python",
   "name": "python",
   "nbconvert_exporter": "python",
   "pygments_lexer": "ipython3",
   "version": "3.12.3"
  },
  "latex_envs": {
   "LaTeX_envs_menu_present": true,
   "autoclose": false,
   "autocomplete": true,
   "bibliofile": "biblio.bib",
   "cite_by": "apalike",
   "current_citInitial": 1,
   "eqLabelWithNumbers": true,
   "eqNumInitial": 1,
   "hotkeys": {
    "equation": "Ctrl-E",
    "itemize": "Ctrl-I"
   },
   "labels_anchors": false,
   "latex_user_defs": false,
   "report_style_numbering": false,
   "user_envs_cfg": false
  }
 },
 "nbformat": 4,
 "nbformat_minor": 5
}
