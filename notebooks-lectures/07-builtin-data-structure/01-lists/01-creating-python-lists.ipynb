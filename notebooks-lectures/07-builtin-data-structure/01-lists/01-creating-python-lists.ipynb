{
 "cells": [
  {
   "cell_type": "markdown",
   "id": "c3180914-413b-4986-b9d5-0743546a06f2",
   "metadata": {},
   "source": [
    "**COURSE**: **Python 101** 🐍  \n",
    "**CHAPTER**: **Python Fundamentals**  \n",
    "**LESSON**: **Introduction to Lists**  \n",
    "**Author**: **Dr. Saad Laouadi**  \n",
    "\n",
    "---\n",
    "\n",
    "### Overview:\n",
    "This lesson introduces **lists** in Python, one of the most commonly used data structures in the language:  \n",
    "  - A list is a mutable, ordered collection of items (which can be of different types).  \n",
    "  - Lists are versatile and allow developers to store, manipulate, and retrieve data efficiently in Python programs.\n",
    "\n",
    "### Learning Outcomes:\n",
    "- **Understanding Lists**: Learn how to create and manipulate lists in Python.\n",
    "- **Basic Operations**: Explore common list operations such as adding, removing, and accessing elements.\n",
    "- **Working with List Methods**: Familiarize yourself with built-in methods such as `append()`, `remove()`, `sort()`, and more.\n",
    "\n",
    "---\n",
    "\n",
    "**Disclaimer**:\n",
    "\n",
    "**This course and its content are intended for educational purposes only. The author, Dr. Saad Laouadi, is not responsible for any issues, damages, or unintended results from the use of the provided code. Users must proceed at their own risk.**\n",
    "\n",
    "---\n",
    "\n",
    "**Copyright © Dr. Saad Laouadi**  \n",
    "**All Rights Reserved 🛡️**\n",
    "\n",
    "---\n"
   ]
  },
  {
   "cell_type": "code",
   "execution_count": 1,
   "id": "cd57edc0",
   "metadata": {},
   "outputs": [],
   "source": [
    "# Environment Setup\n",
    "import random\n",
    "import sys\n",
    "\n",
    "# This module is used to generate examples\n",
    "import faker\n",
    "\n",
    "# Instantiate a faker object\n",
    "fake = faker.Faker()"
   ]
  },
  {
   "cell_type": "markdown",
   "id": "c40fec62-7ba5-410b-b509-868d7c4e43d6",
   "metadata": {},
   "source": [
    "## The Python List\n",
    "\n",
    "- A **list** in Python is a **mutable** sequence of values, meaning the elements can be changed after the list is created.\n",
    "- A list can hold one or more elements of **any data type**—including integers, strings, objects, and even other lists.\n",
    "- A list is created using **square brackets `[...]`**, and the elements are separated by commas.\n",
    "- The values in a list are called **elements** or **items**.\n",
    "- Lists in Python can contain **unlimited elements**, constrained only by the computer’s available memory.\n",
    "\n",
    "\n",
    "### Creating a List\n",
    "\n",
    "To create a `list`, you can either populate it with values or initialize an empty list.\n",
    "\n",
    "#### Example 1: Creating a List with Values"
   ]
  },
  {
   "cell_type": "code",
   "execution_count": 2,
   "id": "9f364264-aef8-4ca5-aaa7-ed3df013f700",
   "metadata": {},
   "outputs": [
    {
     "name": "stdout",
     "output_type": "stream",
     "text": [
      "[1, 2, 3, 4, 5]\n",
      "[1, 'Hello', 3.5, True]\n"
     ]
    }
   ],
   "source": [
    "# Create a list of integers\n",
    "numbers = [1, 2, 3, 4, 5]\n",
    "print(numbers)\n",
    "\n",
    "# Create a list with mixed data types\n",
    "mixed = [1, \"Hello\", 3.5, True]\n",
    "print(mixed)"
   ]
  },
  {
   "cell_type": "markdown",
   "id": "0937724a-6f2c-4ed4-a4cb-6425c9bd3975",
   "metadata": {},
   "source": [
    "#### Creating an Empty List\n",
    "To create an empty list, simply assign an empty pair of square brackets `[...]` to a variable:"
   ]
  },
  {
   "cell_type": "code",
   "execution_count": 3,
   "id": "4ce47983-366b-45a1-95f1-96e08259eaee",
   "metadata": {},
   "outputs": [
    {
     "name": "stdout",
     "output_type": "stream",
     "text": [
      "This is an empty list: []\n"
     ]
    }
   ],
   "source": [
    "# Create an empty list\n",
    "empty_list = []\n",
    "print(f\"This is an empty list: {empty_list}\")"
   ]
  },
  {
   "cell_type": "markdown",
   "id": "6e087d58-8f41-4a35-b7e8-048b3e8f039d",
   "metadata": {},
   "source": [
    "### Check The Data Type\n",
    "To check the type of the created object, we use the `type()` function:"
   ]
  },
  {
   "cell_type": "code",
   "execution_count": 4,
   "id": "82f3c00f-ea3d-4938-8d16-2c5d09e6eac5",
   "metadata": {},
   "outputs": [
    {
     "name": "stdout",
     "output_type": "stream",
     "text": [
      "The type of empyt_list is <class 'list'>\n"
     ]
    }
   ],
   "source": [
    "# Check the type of The created object\n",
    "print(f\"The type of empyt_list is {type(empty_list)}\")"
   ]
  },
  {
   "cell_type": "markdown",
   "id": "19fc73b7-853b-4192-955d-0a8e9af19eb5",
   "metadata": {},
   "source": [
    "## Generating Random Data for Lists Using Faker\n",
    "\n",
    "Instead of typing values manually, we can use the `faker` module to generate random data. In the following examples, you’ll see a technique called **list comprehension**, which will be discussed in a separate chapter.\n",
    "\n",
    "For reproducibility of results, we’ll use the `faker.seed_instance(some_int)` method to ensure the same random data is generated each time.\n",
    "\n",
    "### Example: Using Faker to Generate a List of Random Integers"
   ]
  },
  {
   "cell_type": "code",
   "execution_count": 5,
   "id": "dc37e7ae-2b6a-4493-8316-fe797864e8db",
   "metadata": {},
   "outputs": [
    {
     "name": "stdout",
     "output_type": "stream",
     "text": [
      "The randomly generated list is: [7, 11, 10, 46, 21, 94]\n"
     ]
    }
   ],
   "source": [
    "# Seed the random generator for reproducibility\n",
    "fake.seed_instance(2)\n",
    "\n",
    "# Generate a list of random integers using list comprehension\n",
    "random_integers = [fake.random_int(max=99) for _ in range(6)]\n",
    "print(f\"The randomly generated list is: {random_integers}\")"
   ]
  },
  {
   "cell_type": "markdown",
   "id": "d96c2fd7-1e51-4e6e-a318-a36da6280f5c",
   "metadata": {},
   "source": [
    "In the previous example\n",
    " - We generated a list of 6 random integers between 0 and 99.\n",
    " - The code uses list comprehension, which is a concise way to create lists based on existing iterables."
   ]
  },
  {
   "cell_type": "markdown",
   "id": "e2b3e20c",
   "metadata": {},
   "source": [
    "#### Creating a list of Strings: \n",
    "\n",
    " - We will use the `faker` module to create a list string objects. I will use the `name()` function to generate random names.  "
   ]
  },
  {
   "cell_type": "code",
   "execution_count": 6,
   "id": "0df390cb",
   "metadata": {},
   "outputs": [
    {
     "name": "stdout",
     "output_type": "stream",
     "text": [
      "['Theresa Brown', 'Russell Fitzgerald', 'Elizabeth Obrien', 'Lauren Moore', 'James Sharp']\n"
     ]
    }
   ],
   "source": [
    "# Create a list of strings\n",
    "fake.seed_instance(2)\n",
    "lst_names = [fake.name() for i in range(5)]\n",
    "print(lst_names)"
   ]
  },
  {
   "cell_type": "markdown",
   "id": "6540c1b0",
   "metadata": {},
   "source": [
    "#### Creating a list of Booleans: \n",
    "\n",
    " - The `pybool()` function the `faker` module is used to a list of random booleans."
   ]
  },
  {
   "cell_type": "code",
   "execution_count": 7,
   "id": "61fa1dba",
   "metadata": {},
   "outputs": [
    {
     "name": "stdout",
     "output_type": "stream",
     "text": [
      "[True, True, True, True, True, False, False, True]\n"
     ]
    }
   ],
   "source": [
    "# Create a list of strings\n",
    "fake.seed_instance(2)\n",
    "lst_bools = [fake.pybool() for i in range(8)]\n",
    "print(lst_bools)"
   ]
  },
  {
   "cell_type": "markdown",
   "id": "d32371c2",
   "metadata": {},
   "source": [
    "#### A list of Mixed Data Types:\n",
    "\n",
    "- A list can contain any data types. In this example, we will show that:"
   ]
  },
  {
   "cell_type": "code",
   "execution_count": 8,
   "id": "96f87b9c",
   "metadata": {},
   "outputs": [
    {
     "name": "stdout",
     "output_type": "stream",
     "text": [
      "[71, False, 59, False, 'Scott Lee', True, 'Karen Mendez', 99, 57, False, 'Jeremy Thomas']\n"
     ]
    }
   ],
   "source": [
    "# Create a mixed list of data types\n",
    "fake.seed_instance(11)\n",
    "mixed_lst = (\n",
    "    [fake.random_int(max=99) for i in range(4)]\n",
    "    + [fake.name() for i in range(3)]\n",
    "    + [fake.pybool() for i in range(4)]\n",
    ")\n",
    "\n",
    "# Shuffle the list\n",
    "random.shuffle(mixed_lst)  # This is not necessary.\n",
    "\n",
    "# Print the list object\n",
    "print(mixed_lst)"
   ]
  },
  {
   "cell_type": "markdown",
   "id": "50301892",
   "metadata": {},
   "source": [
    "#### A list of Lists:\n",
    "\n",
    "- A list can contain other lists, or other data types (tuples or sets). "
   ]
  },
  {
   "cell_type": "code",
   "execution_count": 9,
   "id": "938631f5",
   "metadata": {},
   "outputs": [
    {
     "name": "stdout",
     "output_type": "stream",
     "text": [
      "[57, 8, [99, 59, 57], [False, False, True, True], [65, 60, 80]]\n"
     ]
    }
   ],
   "source": [
    "# Generate a list of lists\n",
    "fake.seed_instance(11)\n",
    "lst_of_lst = [\n",
    "    fake.random_int(max=99),\n",
    "    fake.random_digit(),\n",
    "    [fake.random_int(max=99) for i in range(3)],\n",
    "    [fake.pybool() for i in range(4)],\n",
    "    [fake.random_int(max=99) for i in range(3)],\n",
    "]\n",
    "# Print the list object\n",
    "print(lst_of_lst)"
   ]
  },
  {
   "cell_type": "markdown",
   "id": "41b75aa1",
   "metadata": {},
   "source": [
    "___"
   ]
  },
  {
   "cell_type": "markdown",
   "id": "50d813e8-e3f9-4d47-bb13-44a63ad41f29",
   "metadata": {},
   "source": [
    "### The `list` Constructor\n",
    "\n",
    "In Python, when you call the `type()` method on a list object, the result is `class list`. This indicates that every list object is an **instance** or **object** of the `list` class.\n",
    "  \n",
    "Since `list` is a class, Python provides a `list()` constructor, which can be used to:\n",
    "  - **Instantiate an empty list**, or\n",
    "  - **Convert other sequence types** (such as tuples, sets, dictionaries, or strings) into a list.\n",
    "\n",
    "The `list()` constructor is a versatile way to work with sequences and convert them into list objects.\n",
    "\n",
    "#### 1. Creating an Empty List Using `list()`\n",
    "You can create an empty list by calling the `list()` constructor without passing any arguments:"
   ]
  },
  {
   "cell_type": "code",
   "execution_count": 10,
   "id": "90495e6b-34b9-46ef-a495-3353cfabee97",
   "metadata": {},
   "outputs": [
    {
     "name": "stdout",
     "output_type": "stream",
     "text": [
      "[]\n",
      "<class 'list'>\n"
     ]
    }
   ],
   "source": [
    "# Create an empty list using the list constructor\n",
    "empty_list = list()\n",
    "print(empty_list)\n",
    "print(type(empty_list))"
   ]
  },
  {
   "cell_type": "markdown",
   "id": "d0744442",
   "metadata": {},
   "source": [
    "#### 2. Convert a string word to a list using the `list()` constructor:"
   ]
  },
  {
   "cell_type": "code",
   "execution_count": 11,
   "id": "541c48f6",
   "metadata": {},
   "outputs": [
    {
     "name": "stdout",
     "output_type": "stream",
     "text": [
      "['E', 'x', 'p', 'e', 'r', 'i', 'e', 'n', 'c', 'e']\n"
     ]
    }
   ],
   "source": [
    "word = \"Experience\"\n",
    "lst_str = list(word)\n",
    "print(lst_str)"
   ]
  },
  {
   "cell_type": "markdown",
   "id": "04adc35a",
   "metadata": {},
   "source": [
    "#### 3. **Convert a tuple to a list**:\n",
    "- The `tuple` object is sequence of data between parentheses (This type will be studied later). \n",
    "- In this example, the `pytuple()` from the `faker` module is used to generate a random tuple."
   ]
  },
  {
   "cell_type": "code",
   "execution_count": 12,
   "id": "aaaec94c",
   "metadata": {},
   "outputs": [
    {
     "name": "stdout",
     "output_type": "stream",
     "text": [
      "(7402, 3025, 3050, 7316)\n",
      "[7402, 3025, 3050, 7316]\n"
     ]
    }
   ],
   "source": [
    "# Generate an random tuple\n",
    "fake.seed_instance(11)\n",
    "tup = fake.pytuple(nb_elements=4, value_types=\"int\")\n",
    "print(tup)\n",
    "# Convert the tuple to a list\n",
    "lst_from_tuple = list(tup)\n",
    "print(lst_from_tuple)"
   ]
  },
  {
   "cell_type": "markdown",
   "id": "7ccad12a",
   "metadata": {},
   "source": [
    "#### 4. **Convert a tuple to a set**:\n",
    "- The `set` object is sequence of data between curly braces (This type will be studied later). \n",
    "- In this example, the `pyset()` from the `faker` module is used to generate a random set."
   ]
  },
  {
   "cell_type": "code",
   "execution_count": 13,
   "id": "fd988228",
   "metadata": {},
   "outputs": [
    {
     "name": "stdout",
     "output_type": "stream",
     "text": [
      "{3025, 7402, 7316, 3050}\n",
      "[7402, 3025, 3050, 7316]\n"
     ]
    }
   ],
   "source": [
    "# Generate an random set\n",
    "fake.seed_instance(11)\n",
    "set_obj = fake.pyset(nb_elements=4, value_types=\"int\")\n",
    "\n",
    "# Convert the set to a list\n",
    "print(set_obj)\n",
    "lst_from_set = list(tup)\n",
    "print(lst_from_set)"
   ]
  },
  {
   "cell_type": "code",
   "execution_count": 14,
   "id": "81799a53-16e9-4dd5-ae4d-c3c49c9e50d0",
   "metadata": {},
   "outputs": [
    {
     "name": "stdout",
     "output_type": "stream",
     "text": [
      "[1, 2, 3]\n",
      "[4, 5, 6]\n",
      "['a', 'b', 'c']\n",
      "['h', 'e', 'l', 'l', 'o']\n"
     ]
    }
   ],
   "source": [
    "# Convert a tuple to a list\n",
    "tuple_data = (1, 2, 3)\n",
    "list_from_tuple = list(tuple_data)\n",
    "print(list_from_tuple)  # Output: [1, 2, 3]\n",
    "\n",
    "# Convert a set to a list\n",
    "set_data = {4, 5, 6}\n",
    "list_from_set = list(set_data)\n",
    "print(list_from_set)  # Output: [4, 5, 6]\n",
    "\n",
    "# Convert a dictionary to a list (this returns the dictionary keys)\n",
    "dict_data = {\"a\": 1, \"b\": 2, \"c\": 3}\n",
    "list_from_dict = list(dict_data)\n",
    "print(list_from_dict)  # Output: ['a', 'b', 'c']\n",
    "\n",
    "# Convert a string to a list (each character becomes an element)\n",
    "string_data = \"hello\"\n",
    "list_from_string = list(string_data)\n",
    "print(list_from_string)  # Output: ['h', 'e', 'l', 'l', 'o']"
   ]
  },
  {
   "cell_type": "markdown",
   "id": "c7da3a22",
   "metadata": {},
   "source": [
    "## Iterating over List Elements\n",
    "\n",
    " - The list in Python is an **iterable** object, which means we can use it in a `for` or `while` loop. "
   ]
  },
  {
   "cell_type": "code",
   "execution_count": 15,
   "id": "c501f5ba",
   "metadata": {},
   "outputs": [
    {
     "name": "stdout",
     "output_type": "stream",
     "text": [
      "[1500, 5915, 5048, 9927, 9941]\n"
     ]
    }
   ],
   "source": [
    "fake.seed_instance(2)\n",
    "lst = fake.pylist(nb_elements=5, variable_nb_elements=False, value_types=\"int\")\n",
    "print(lst)"
   ]
  },
  {
   "cell_type": "code",
   "execution_count": 16,
   "id": "8eaeffea",
   "metadata": {},
   "outputs": [
    {
     "name": "stdout",
     "output_type": "stream",
     "text": [
      "1500, 5915, 5048, 9927, 9941, "
     ]
    }
   ],
   "source": [
    "# Iterate over the list elements in a for loop\n",
    "for item in lst:\n",
    "    print(item, end=\", \")"
   ]
  },
  {
   "cell_type": "code",
   "execution_count": 17,
   "id": "1df0c6e4",
   "metadata": {},
   "outputs": [
    {
     "name": "stdout",
     "output_type": "stream",
     "text": [
      "1500, 5915, 5048, 9927, 9941, "
     ]
    }
   ],
   "source": [
    "# Iterate over the list items in a while loop\n",
    "n_items = len(lst)\n",
    "i = 0\n",
    "while n_items > 0:\n",
    "    print(lst[i], end=\", \")\n",
    "    i += 1\n",
    "    n_items -= 1"
   ]
  },
  {
   "cell_type": "markdown",
   "id": "a902093d-49ce-41ff-95a0-c2956e7fa4c1",
   "metadata": {},
   "source": [
    "### Understanding How Looping Through List elements Using `__iter__()` Method:\n",
    "\n",
    "In Python, the `__iter__()` method returns an iterator object, which can be used to iterate over the elements of the list. The `__next__()` method is then used to get the next item from the iterator.\n",
    "\n",
    "Here’s an example that shows how to manually iterate over a list using the `__iter__()` and `__next__()` methods:"
   ]
  },
  {
   "cell_type": "code",
   "execution_count": 18,
   "id": "fda136aa-ee3f-410c-8875-8f60089a14b6",
   "metadata": {},
   "outputs": [
    {
     "name": "stdout",
     "output_type": "stream",
     "text": [
      "The of `list_iterator is <class 'list_iterator'>\n",
      "60, 65, 5, 40, 80, \n",
      "Iteration finished.\n"
     ]
    }
   ],
   "source": [
    "# Define a random list\n",
    "fake.seed_instance(0)\n",
    "\n",
    "lst = [fake.random_int(max=99, step=5) for _ in range(5)]\n",
    "\n",
    "# Get the iterator object from the list\n",
    "list_iterator = lst.__iter__()\n",
    "print(f\"The of `list_iterator is {type(list_iterator)}\")\n",
    "\n",
    "# Use a while loop to manually loop through the list using __next__()\n",
    "try:\n",
    "    while True:\n",
    "        # Get the next item\n",
    "        item = list_iterator.__next__()\n",
    "        print(item, end=\", \")\n",
    "except StopIteration:\n",
    "    # When there are no more items, StopIteration will be raised\n",
    "    print(\"\\nIteration finished.\")"
   ]
  },
  {
   "cell_type": "markdown",
   "id": "7d81ed5a",
   "metadata": {},
   "source": [
    "___"
   ]
  },
  {
   "cell_type": "markdown",
   "id": "e641d145",
   "metadata": {},
   "source": [
    "## Creating Lists with Built-in Functions \n",
    "\n",
    "### Creating a List Using the `range()` Function \n",
    "\n",
    " - Python has a built-in function `range()` with three parameters:\n",
    "     1. Stop: The end of elements\n",
    "     2. Start: The start point of elements.\n",
    "     3. Step: the step between elements\n",
    "     \n",
    " - The `range()` function generate a `range` object that can be converted to a list using the `list()` constructor.\n",
    " \n",
    "**Example**: \n",
    "- Create a list from range of the first 10 integer numbers. "
   ]
  },
  {
   "cell_type": "code",
   "execution_count": 19,
   "id": "cad82622",
   "metadata": {},
   "outputs": [
    {
     "name": "stdout",
     "output_type": "stream",
     "text": [
      "[0, 1, 2, 3, 4, 5, 6, 7, 8, 9]\n"
     ]
    }
   ],
   "source": [
    "# Create a range object\n",
    "rng = range(10)\n",
    "\n",
    "# Convert the range object to a list\n",
    "lst_from_rng = list(rng)\n",
    "print(lst_from_rng)"
   ]
  },
  {
   "cell_type": "code",
   "execution_count": 20,
   "id": "157700e2",
   "metadata": {},
   "outputs": [
    {
     "name": "stdout",
     "output_type": "stream",
     "text": [
      "[0, 1, 2, 3, 4, 5, 6, 7, 8, 9]\n"
     ]
    }
   ],
   "source": [
    "# Of course the previous example can be done in one line of code.\n",
    "lst = list(range(10))\n",
    "print(lst)"
   ]
  },
  {
   "cell_type": "markdown",
   "id": "61d2c648",
   "metadata": {},
   "source": [
    "### Creating a List Using the `choices()` Function from `random` Module\n",
    "\n",
    " - Python has a built-in module to create random data called `random`. This module has a `choices()` method that can used to create random lists.\n",
    " \n",
    " - The `choices()` method has few parameters:\n",
    "     1. **population**: A set of elements to choose from. We can use `range()` as a population.\n",
    "     1. **k**: The number of elements to be included in the list. \n",
    "     \n",
    " - If we want to have the same result each time, we use the `seed()` function with a number.\n",
    "**Examples**: \n",
    "1. Generate a list of 6 random integers. first, we import the choices from the random module, then we call it on the `range()` with 21 elements. "
   ]
  },
  {
   "cell_type": "code",
   "execution_count": 21,
   "id": "b4bb4936",
   "metadata": {},
   "outputs": [
    {
     "name": "stdout",
     "output_type": "stream",
     "text": [
      "[9, 11, 19, 9, 10, 12]\n"
     ]
    }
   ],
   "source": [
    "# Importing tools\n",
    "from random import choices, seed\n",
    "\n",
    "seed(11)\n",
    "\n",
    "lst = choices(range(21), k=6)\n",
    "print(lst)"
   ]
  },
  {
   "cell_type": "markdown",
   "id": "e7c2cf43",
   "metadata": {},
   "source": [
    "### Creating a List Using the  `random` and `string` Modules\n",
    "\n",
    " - The `string` Python has a built-in module has ascii lower case and upper case characters. \n",
    " \n",
    " - We can use this module in conjunction with `choices()` function to create random list of characters.\n",
    " \n",
    "**Example**: \n",
    "1. Generate a list of 10 uppercase ascii characters. first, we import the choices from the random module, the uppercase from the string module, then we call it on the `choices()` function on that."
   ]
  },
  {
   "cell_type": "code",
   "execution_count": 22,
   "id": "d8401ee0",
   "metadata": {},
   "outputs": [
    {
     "name": "stdout",
     "output_type": "stream",
     "text": [
      "['E', 'N', 'Q', 'U', 'C', 'H', 'C', 'V', 'S', 'B']\n"
     ]
    }
   ],
   "source": [
    "# Importing tools\n",
    "from random import choices, seed\n",
    "from string import ascii_uppercase\n",
    "\n",
    "lst_up = choices(ascii_uppercase, k=10)\n",
    "print(lst_up)"
   ]
  },
  {
   "cell_type": "markdown",
   "id": "4007c32c",
   "metadata": {},
   "source": [
    "### Real World Example \n",
    "\n",
    " - A list of list of babies names."
   ]
  },
  {
   "cell_type": "code",
   "execution_count": 23,
   "id": "1008fd63",
   "metadata": {},
   "outputs": [],
   "source": [
    "babies_names = [\n",
    "    [\"2014\", \"FEMALE\", \"ASIAN AND PACIFIC ISLANDER\", \"Aarya\", \"10\", \"40\"],\n",
    "    [\"2014\", \"FEMALE\", \"ASIAN AND PACIFIC ISLANDER\", \"Abby\", \"27\", \"23\"],\n",
    "    [\"2014\", \"FEMALE\", \"ASIAN AND PACIFIC ISLANDER\", \"Abigail\", \"31\", \"19\"],\n",
    "    [\"2014\", \"FEMALE\", \"ASIAN AND PACIFIC ISLANDER\", \"Aisha\", \"18\", \"32\"],\n",
    "    [\"2014\", \"FEMALE\", \"ASIAN AND PACIFIC ISLANDER\", \"Aiza\", \"19\", \"31\"],\n",
    "    [\"2014\", \"FEMALE\", \"ASIAN AND PACIFIC ISLANDER\", \"Aleena\", \"17\", \"33\"],\n",
    "    [\"2014\", \"FEMALE\", \"ASIAN AND PACIFIC ISLANDER\", \"Alexandra\", \"11\", \"39\"],\n",
    "    [\"2014\", \"FEMALE\", \"ASIAN AND PACIFIC ISLANDER\", \"Alice\", \"24\", \"26\"],\n",
    "    [\"2014\", \"FEMALE\", \"ASIAN AND PACIFIC ISLANDER\", \"Alicia\", \"12\", \"38\"],\n",
    "    [\"2014\", \"FEMALE\", \"ASIAN AND PACIFIC ISLANDER\", \"Alina\", \"41\", \"10\"],\n",
    "    [\"2014\", \"FEMALE\", \"ASIAN AND PACIFIC ISLANDER\", \"Alisa\", \"11\", \"39\"],\n",
    "    [\"2014\", \"FEMALE\", \"ASIAN AND PACIFIC ISLANDER\", \"Alisha\", \"11\", \"39\"],\n",
    "    [\"2014\", \"FEMALE\", \"ASIAN AND PACIFIC ISLANDER\", \"Allison\", \"15\", \"35\"],\n",
    "]"
   ]
  },
  {
   "cell_type": "code",
   "execution_count": null,
   "id": "eba8d152",
   "metadata": {},
   "outputs": [],
   "source": []
  }
 ],
 "metadata": {
  "kernelspec": {
   "display_name": "Python3.12",
   "language": "python",
   "name": "python3"
  },
  "language_info": {
   "codemirror_mode": {
    "name": "ipython",
    "version": 3
   },
   "file_extension": ".py",
   "mimetype": "text/x-python",
   "name": "python",
   "nbconvert_exporter": "python",
   "pygments_lexer": "ipython3",
   "version": "3.12.3"
  },
  "latex_envs": {
   "LaTeX_envs_menu_present": true,
   "autoclose": false,
   "autocomplete": true,
   "bibliofile": "biblio.bib",
   "cite_by": "apalike",
   "current_citInitial": 1,
   "eqLabelWithNumbers": true,
   "eqNumInitial": 1,
   "hotkeys": {
    "equation": "Ctrl-E",
    "itemize": "Ctrl-I"
   },
   "labels_anchors": false,
   "latex_user_defs": false,
   "report_style_numbering": false,
   "user_envs_cfg": false
  }
 },
 "nbformat": 4,
 "nbformat_minor": 5
}
